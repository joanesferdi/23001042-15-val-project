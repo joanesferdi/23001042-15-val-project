{
 "cells": [
  {
   "cell_type": "code",
   "execution_count": 1,
   "metadata": {},
   "outputs": [],
   "source": [
    "import pandas as pd\n",
    "\n",
    "df_manggarai = pd.read_csv('118_2024.csv')\n",
    "df_depok = pd.read_csv('122_2024.csv')"
   ]
  },
  {
   "cell_type": "code",
   "execution_count": 2,
   "metadata": {},
   "outputs": [
    {
     "data": {
      "text/plain": [
       "(5006, 3)"
      ]
     },
     "execution_count": 2,
     "metadata": {},
     "output_type": "execute_result"
    }
   ],
   "source": [
    "df_manggarai.shape"
   ]
  },
  {
   "cell_type": "code",
   "execution_count": 3,
   "metadata": {},
   "outputs": [
    {
     "data": {
      "text/html": [
       "<div>\n",
       "<style scoped>\n",
       "    .dataframe tbody tr th:only-of-type {\n",
       "        vertical-align: middle;\n",
       "    }\n",
       "\n",
       "    .dataframe tbody tr th {\n",
       "        vertical-align: top;\n",
       "    }\n",
       "\n",
       "    .dataframe thead th {\n",
       "        text-align: right;\n",
       "    }\n",
       "</style>\n",
       "<table border=\"1\" class=\"dataframe\">\n",
       "  <thead>\n",
       "    <tr style=\"text-align: right;\">\n",
       "      <th></th>\n",
       "      <th>118</th>\n",
       "      <th>2023-11-24 00:00:00</th>\n",
       "      <th>103</th>\n",
       "    </tr>\n",
       "  </thead>\n",
       "  <tbody>\n",
       "    <tr>\n",
       "      <th>0</th>\n",
       "      <td>118</td>\n",
       "      <td>2023-11-24 00:10:00</td>\n",
       "      <td>102</td>\n",
       "    </tr>\n",
       "    <tr>\n",
       "      <th>1</th>\n",
       "      <td>118</td>\n",
       "      <td>2023-11-24 00:20:00</td>\n",
       "      <td>102</td>\n",
       "    </tr>\n",
       "    <tr>\n",
       "      <th>2</th>\n",
       "      <td>118</td>\n",
       "      <td>2023-11-24 00:30:00</td>\n",
       "      <td>102</td>\n",
       "    </tr>\n",
       "    <tr>\n",
       "      <th>3</th>\n",
       "      <td>118</td>\n",
       "      <td>2023-11-24 00:40:00</td>\n",
       "      <td>101</td>\n",
       "    </tr>\n",
       "    <tr>\n",
       "      <th>4</th>\n",
       "      <td>118</td>\n",
       "      <td>2023-11-24 00:50:00</td>\n",
       "      <td>101</td>\n",
       "    </tr>\n",
       "    <tr>\n",
       "      <th>...</th>\n",
       "      <td>...</td>\n",
       "      <td>...</td>\n",
       "      <td>...</td>\n",
       "    </tr>\n",
       "    <tr>\n",
       "      <th>5001</th>\n",
       "      <td>118</td>\n",
       "      <td>2023-12-31 23:20:00</td>\n",
       "      <td>114</td>\n",
       "    </tr>\n",
       "    <tr>\n",
       "      <th>5002</th>\n",
       "      <td>118</td>\n",
       "      <td>2023-12-31 23:30:00</td>\n",
       "      <td>114</td>\n",
       "    </tr>\n",
       "    <tr>\n",
       "      <th>5003</th>\n",
       "      <td>118</td>\n",
       "      <td>2023-12-31 23:40:00</td>\n",
       "      <td>114</td>\n",
       "    </tr>\n",
       "    <tr>\n",
       "      <th>5004</th>\n",
       "      <td>118</td>\n",
       "      <td>2023-12-31 23:50:00</td>\n",
       "      <td>114</td>\n",
       "    </tr>\n",
       "    <tr>\n",
       "      <th>5005</th>\n",
       "      <td>118</td>\n",
       "      <td>2024-01-01 00:00:00</td>\n",
       "      <td>114</td>\n",
       "    </tr>\n",
       "  </tbody>\n",
       "</table>\n",
       "<p>5006 rows × 3 columns</p>\n",
       "</div>"
      ],
      "text/plain": [
       "      118  2023-11-24 00:00:00  103\n",
       "0     118  2023-11-24 00:10:00  102\n",
       "1     118  2023-11-24 00:20:00  102\n",
       "2     118  2023-11-24 00:30:00  102\n",
       "3     118  2023-11-24 00:40:00  101\n",
       "4     118  2023-11-24 00:50:00  101\n",
       "...   ...                  ...  ...\n",
       "5001  118  2023-12-31 23:20:00  114\n",
       "5002  118  2023-12-31 23:30:00  114\n",
       "5003  118  2023-12-31 23:40:00  114\n",
       "5004  118  2023-12-31 23:50:00  114\n",
       "5005  118  2024-01-01 00:00:00  114\n",
       "\n",
       "[5006 rows x 3 columns]"
      ]
     },
     "execution_count": 3,
     "metadata": {},
     "output_type": "execute_result"
    }
   ],
   "source": [
    "df_manggarai"
   ]
  },
  {
   "cell_type": "code",
   "execution_count": 4,
   "metadata": {},
   "outputs": [
    {
     "data": {
      "text/plain": [
       "(4841, 3)"
      ]
     },
     "execution_count": 4,
     "metadata": {},
     "output_type": "execute_result"
    }
   ],
   "source": [
    "df_depok.shape"
   ]
  },
  {
   "cell_type": "code",
   "execution_count": 5,
   "metadata": {},
   "outputs": [
    {
     "data": {
      "text/html": [
       "<div>\n",
       "<style scoped>\n",
       "    .dataframe tbody tr th:only-of-type {\n",
       "        vertical-align: middle;\n",
       "    }\n",
       "\n",
       "    .dataframe tbody tr th {\n",
       "        vertical-align: top;\n",
       "    }\n",
       "\n",
       "    .dataframe thead th {\n",
       "        text-align: right;\n",
       "    }\n",
       "</style>\n",
       "<table border=\"1\" class=\"dataframe\">\n",
       "  <thead>\n",
       "    <tr style=\"text-align: right;\">\n",
       "      <th></th>\n",
       "      <th>122</th>\n",
       "      <th>2023-11-24 00:00:00</th>\n",
       "      <th>660</th>\n",
       "    </tr>\n",
       "  </thead>\n",
       "  <tbody>\n",
       "    <tr>\n",
       "      <th>0</th>\n",
       "      <td>122</td>\n",
       "      <td>2023-11-24 00:10:00</td>\n",
       "      <td>659</td>\n",
       "    </tr>\n",
       "    <tr>\n",
       "      <th>1</th>\n",
       "      <td>122</td>\n",
       "      <td>2023-11-24 00:20:00</td>\n",
       "      <td>658</td>\n",
       "    </tr>\n",
       "    <tr>\n",
       "      <th>2</th>\n",
       "      <td>122</td>\n",
       "      <td>2023-11-24 00:30:00</td>\n",
       "      <td>658</td>\n",
       "    </tr>\n",
       "    <tr>\n",
       "      <th>3</th>\n",
       "      <td>122</td>\n",
       "      <td>2023-11-24 00:40:00</td>\n",
       "      <td>657</td>\n",
       "    </tr>\n",
       "    <tr>\n",
       "      <th>4</th>\n",
       "      <td>122</td>\n",
       "      <td>2023-11-24 00:50:00</td>\n",
       "      <td>657</td>\n",
       "    </tr>\n",
       "    <tr>\n",
       "      <th>...</th>\n",
       "      <td>...</td>\n",
       "      <td>...</td>\n",
       "      <td>...</td>\n",
       "    </tr>\n",
       "    <tr>\n",
       "      <th>4836</th>\n",
       "      <td>122</td>\n",
       "      <td>2023-12-31 23:20:00</td>\n",
       "      <td>646</td>\n",
       "    </tr>\n",
       "    <tr>\n",
       "      <th>4837</th>\n",
       "      <td>122</td>\n",
       "      <td>2023-12-31 23:30:00</td>\n",
       "      <td>648</td>\n",
       "    </tr>\n",
       "    <tr>\n",
       "      <th>4838</th>\n",
       "      <td>122</td>\n",
       "      <td>2023-12-31 23:40:00</td>\n",
       "      <td>652</td>\n",
       "    </tr>\n",
       "    <tr>\n",
       "      <th>4839</th>\n",
       "      <td>122</td>\n",
       "      <td>2023-12-31 23:50:00</td>\n",
       "      <td>655</td>\n",
       "    </tr>\n",
       "    <tr>\n",
       "      <th>4840</th>\n",
       "      <td>122</td>\n",
       "      <td>2024-01-01 00:00:00</td>\n",
       "      <td>658</td>\n",
       "    </tr>\n",
       "  </tbody>\n",
       "</table>\n",
       "<p>4841 rows × 3 columns</p>\n",
       "</div>"
      ],
      "text/plain": [
       "      122  2023-11-24 00:00:00  660\n",
       "0     122  2023-11-24 00:10:00  659\n",
       "1     122  2023-11-24 00:20:00  658\n",
       "2     122  2023-11-24 00:30:00  658\n",
       "3     122  2023-11-24 00:40:00  657\n",
       "4     122  2023-11-24 00:50:00  657\n",
       "...   ...                  ...  ...\n",
       "4836  122  2023-12-31 23:20:00  646\n",
       "4837  122  2023-12-31 23:30:00  648\n",
       "4838  122  2023-12-31 23:40:00  652\n",
       "4839  122  2023-12-31 23:50:00  655\n",
       "4840  122  2024-01-01 00:00:00  658\n",
       "\n",
       "[4841 rows x 3 columns]"
      ]
     },
     "execution_count": 5,
     "metadata": {},
     "output_type": "execute_result"
    }
   ],
   "source": [
    "df_depok"
   ]
  },
  {
   "cell_type": "code",
   "execution_count": 6,
   "metadata": {},
   "outputs": [],
   "source": [
    "df_manggarai.columns = ['ids', 'start_date', 'tma']"
   ]
  },
  {
   "cell_type": "code",
   "execution_count": 7,
   "metadata": {},
   "outputs": [
    {
     "data": {
      "text/html": [
       "<div>\n",
       "<style scoped>\n",
       "    .dataframe tbody tr th:only-of-type {\n",
       "        vertical-align: middle;\n",
       "    }\n",
       "\n",
       "    .dataframe tbody tr th {\n",
       "        vertical-align: top;\n",
       "    }\n",
       "\n",
       "    .dataframe thead th {\n",
       "        text-align: right;\n",
       "    }\n",
       "</style>\n",
       "<table border=\"1\" class=\"dataframe\">\n",
       "  <thead>\n",
       "    <tr style=\"text-align: right;\">\n",
       "      <th></th>\n",
       "      <th>ids</th>\n",
       "      <th>start_date</th>\n",
       "      <th>tma</th>\n",
       "    </tr>\n",
       "  </thead>\n",
       "  <tbody>\n",
       "    <tr>\n",
       "      <th>0</th>\n",
       "      <td>118</td>\n",
       "      <td>2023-11-24 00:10:00</td>\n",
       "      <td>102</td>\n",
       "    </tr>\n",
       "    <tr>\n",
       "      <th>1</th>\n",
       "      <td>118</td>\n",
       "      <td>2023-11-24 00:20:00</td>\n",
       "      <td>102</td>\n",
       "    </tr>\n",
       "    <tr>\n",
       "      <th>2</th>\n",
       "      <td>118</td>\n",
       "      <td>2023-11-24 00:30:00</td>\n",
       "      <td>102</td>\n",
       "    </tr>\n",
       "    <tr>\n",
       "      <th>3</th>\n",
       "      <td>118</td>\n",
       "      <td>2023-11-24 00:40:00</td>\n",
       "      <td>101</td>\n",
       "    </tr>\n",
       "    <tr>\n",
       "      <th>4</th>\n",
       "      <td>118</td>\n",
       "      <td>2023-11-24 00:50:00</td>\n",
       "      <td>101</td>\n",
       "    </tr>\n",
       "    <tr>\n",
       "      <th>...</th>\n",
       "      <td>...</td>\n",
       "      <td>...</td>\n",
       "      <td>...</td>\n",
       "    </tr>\n",
       "    <tr>\n",
       "      <th>5001</th>\n",
       "      <td>118</td>\n",
       "      <td>2023-12-31 23:20:00</td>\n",
       "      <td>114</td>\n",
       "    </tr>\n",
       "    <tr>\n",
       "      <th>5002</th>\n",
       "      <td>118</td>\n",
       "      <td>2023-12-31 23:30:00</td>\n",
       "      <td>114</td>\n",
       "    </tr>\n",
       "    <tr>\n",
       "      <th>5003</th>\n",
       "      <td>118</td>\n",
       "      <td>2023-12-31 23:40:00</td>\n",
       "      <td>114</td>\n",
       "    </tr>\n",
       "    <tr>\n",
       "      <th>5004</th>\n",
       "      <td>118</td>\n",
       "      <td>2023-12-31 23:50:00</td>\n",
       "      <td>114</td>\n",
       "    </tr>\n",
       "    <tr>\n",
       "      <th>5005</th>\n",
       "      <td>118</td>\n",
       "      <td>2024-01-01 00:00:00</td>\n",
       "      <td>114</td>\n",
       "    </tr>\n",
       "  </tbody>\n",
       "</table>\n",
       "<p>5006 rows × 3 columns</p>\n",
       "</div>"
      ],
      "text/plain": [
       "      ids           start_date  tma\n",
       "0     118  2023-11-24 00:10:00  102\n",
       "1     118  2023-11-24 00:20:00  102\n",
       "2     118  2023-11-24 00:30:00  102\n",
       "3     118  2023-11-24 00:40:00  101\n",
       "4     118  2023-11-24 00:50:00  101\n",
       "...   ...                  ...  ...\n",
       "5001  118  2023-12-31 23:20:00  114\n",
       "5002  118  2023-12-31 23:30:00  114\n",
       "5003  118  2023-12-31 23:40:00  114\n",
       "5004  118  2023-12-31 23:50:00  114\n",
       "5005  118  2024-01-01 00:00:00  114\n",
       "\n",
       "[5006 rows x 3 columns]"
      ]
     },
     "execution_count": 7,
     "metadata": {},
     "output_type": "execute_result"
    }
   ],
   "source": [
    "df_manggarai"
   ]
  },
  {
   "cell_type": "code",
   "execution_count": 8,
   "metadata": {},
   "outputs": [],
   "source": [
    "df_depok.columns = ['ids', 'start_date', 'tma']"
   ]
  },
  {
   "cell_type": "code",
   "execution_count": 9,
   "metadata": {},
   "outputs": [
    {
     "data": {
      "text/html": [
       "<div>\n",
       "<style scoped>\n",
       "    .dataframe tbody tr th:only-of-type {\n",
       "        vertical-align: middle;\n",
       "    }\n",
       "\n",
       "    .dataframe tbody tr th {\n",
       "        vertical-align: top;\n",
       "    }\n",
       "\n",
       "    .dataframe thead th {\n",
       "        text-align: right;\n",
       "    }\n",
       "</style>\n",
       "<table border=\"1\" class=\"dataframe\">\n",
       "  <thead>\n",
       "    <tr style=\"text-align: right;\">\n",
       "      <th></th>\n",
       "      <th>ids</th>\n",
       "      <th>start_date</th>\n",
       "      <th>tma</th>\n",
       "    </tr>\n",
       "  </thead>\n",
       "  <tbody>\n",
       "    <tr>\n",
       "      <th>0</th>\n",
       "      <td>122</td>\n",
       "      <td>2023-11-24 00:10:00</td>\n",
       "      <td>659</td>\n",
       "    </tr>\n",
       "    <tr>\n",
       "      <th>1</th>\n",
       "      <td>122</td>\n",
       "      <td>2023-11-24 00:20:00</td>\n",
       "      <td>658</td>\n",
       "    </tr>\n",
       "    <tr>\n",
       "      <th>2</th>\n",
       "      <td>122</td>\n",
       "      <td>2023-11-24 00:30:00</td>\n",
       "      <td>658</td>\n",
       "    </tr>\n",
       "    <tr>\n",
       "      <th>3</th>\n",
       "      <td>122</td>\n",
       "      <td>2023-11-24 00:40:00</td>\n",
       "      <td>657</td>\n",
       "    </tr>\n",
       "    <tr>\n",
       "      <th>4</th>\n",
       "      <td>122</td>\n",
       "      <td>2023-11-24 00:50:00</td>\n",
       "      <td>657</td>\n",
       "    </tr>\n",
       "    <tr>\n",
       "      <th>...</th>\n",
       "      <td>...</td>\n",
       "      <td>...</td>\n",
       "      <td>...</td>\n",
       "    </tr>\n",
       "    <tr>\n",
       "      <th>4836</th>\n",
       "      <td>122</td>\n",
       "      <td>2023-12-31 23:20:00</td>\n",
       "      <td>646</td>\n",
       "    </tr>\n",
       "    <tr>\n",
       "      <th>4837</th>\n",
       "      <td>122</td>\n",
       "      <td>2023-12-31 23:30:00</td>\n",
       "      <td>648</td>\n",
       "    </tr>\n",
       "    <tr>\n",
       "      <th>4838</th>\n",
       "      <td>122</td>\n",
       "      <td>2023-12-31 23:40:00</td>\n",
       "      <td>652</td>\n",
       "    </tr>\n",
       "    <tr>\n",
       "      <th>4839</th>\n",
       "      <td>122</td>\n",
       "      <td>2023-12-31 23:50:00</td>\n",
       "      <td>655</td>\n",
       "    </tr>\n",
       "    <tr>\n",
       "      <th>4840</th>\n",
       "      <td>122</td>\n",
       "      <td>2024-01-01 00:00:00</td>\n",
       "      <td>658</td>\n",
       "    </tr>\n",
       "  </tbody>\n",
       "</table>\n",
       "<p>4841 rows × 3 columns</p>\n",
       "</div>"
      ],
      "text/plain": [
       "      ids           start_date  tma\n",
       "0     122  2023-11-24 00:10:00  659\n",
       "1     122  2023-11-24 00:20:00  658\n",
       "2     122  2023-11-24 00:30:00  658\n",
       "3     122  2023-11-24 00:40:00  657\n",
       "4     122  2023-11-24 00:50:00  657\n",
       "...   ...                  ...  ...\n",
       "4836  122  2023-12-31 23:20:00  646\n",
       "4837  122  2023-12-31 23:30:00  648\n",
       "4838  122  2023-12-31 23:40:00  652\n",
       "4839  122  2023-12-31 23:50:00  655\n",
       "4840  122  2024-01-01 00:00:00  658\n",
       "\n",
       "[4841 rows x 3 columns]"
      ]
     },
     "execution_count": 9,
     "metadata": {},
     "output_type": "execute_result"
    }
   ],
   "source": [
    "df_depok"
   ]
  },
  {
   "cell_type": "code",
   "execution_count": 10,
   "metadata": {},
   "outputs": [
    {
     "data": {
      "text/plain": [
       "(9847, 3)"
      ]
     },
     "execution_count": 10,
     "metadata": {},
     "output_type": "execute_result"
    }
   ],
   "source": [
    "# concat / merge\n",
    "data = pd.concat([df_manggarai, df_depok])\n",
    "data.shape"
   ]
  },
  {
   "cell_type": "code",
   "execution_count": 11,
   "metadata": {},
   "outputs": [],
   "source": [
    "# manggarai\n",
    "batas_siaga_1_manggarai = 950\n",
    "batas_siaga_2_manggarai = 850\n",
    "batas_siaga_3_manggarai = 750\n",
    "\n",
    "# hitung probabilitas\n",
    "prob_siaga_1_manggarai = len(data[(data['ids'] == 122) & (data['tma'] > batas_siaga_1_manggarai)]) / len(data[(data['ids'] == 122)])\n",
    "prob_siaga_2_manggarai = len(data[(data['ids'] == 122) & (data['tma'] == batas_siaga_2_manggarai)]) / len(data[(data['ids'] == 122)])\n",
    "prob_siaga_3_manggarai = len(data[(data['ids'] == 122) & (data['tma'] == batas_siaga_3_manggarai)]) / len(data[(data['ids'] == 122)])\n",
    "prob_normal_manggarai = len(data[(data['ids'] == 122) & (data['tma'] < batas_siaga_3_manggarai)]) / len(data[(data['ids'] == 122)])\n"
   ]
  },
  {
   "cell_type": "code",
   "execution_count": 12,
   "metadata": {},
   "outputs": [
    {
     "name": "stdout",
     "output_type": "stream",
     "text": [
      "Probabilitas Siaga 1 (tingkat tinggi muka air > 950): 0.00%\n",
      "Probabilitas Siaga 2 (tingkat tinggi muka air = 850): 0.00%\n",
      "Probabilitas Siaga 3 (tingkat tinggi muka air = 750): 0.12%\n",
      "Probabilitas normal (tingkat tinggi muka air < 750): 97.77%\n"
     ]
    }
   ],
   "source": [
    "print(f\"Probabilitas Siaga 1 (tingkat tinggi muka air > 950): {prob_siaga_1_manggarai:.2%}\")\n",
    "print(f\"Probabilitas Siaga 2 (tingkat tinggi muka air = 850): {prob_siaga_2_manggarai:.2%}\")\n",
    "print(f\"Probabilitas Siaga 3 (tingkat tinggi muka air = 750): {prob_siaga_3_manggarai:.2%}\")\n",
    "print(f\"Probabilitas normal (tingkat tinggi muka air < 750): {prob_normal_manggarai:.2%}\")"
   ]
  },
  {
   "cell_type": "code",
   "execution_count": 14,
   "metadata": {},
   "outputs": [
    {
     "data": {
      "image/png": "[encoded data removed]",
      "text/plain": [
       "<Figure size 640x480 with 1 Axes>"
      ]
     },
     "metadata": {},
     "output_type": "display_data"
    }
   ],
   "source": [
    "import matplotlib.pyplot as plt\n",
    "\n",
    "# Menentukan batas untuk setiap status siaga\n",
    "batas_siaga_1_manggarai = 950\n",
    "batas_siaga_2_manggarai = 850\n",
    "batas_siaga_3_manggarai = 750\n",
    "\n",
    "# Memfilter data tinggi muka air untuk ids == 122 (manggarai)\n",
    "tinggi_muka_air_manggarai = data[data['ids'] == 122]['tma']\n",
    "\n",
    "# Membuat histogram dengan memperhitungkan probabilitas untuk setiap status siaga\n",
    "plt.hist(tinggi_muka_air_manggarai, bins=30, density=True, alpha=0.6, color='g', label='Tinggi Muka Air')\n",
    "\n",
    "# Menambahkan garis vertikal untuk batas siaga\n",
    "plt.axvline(x=batas_siaga_1_manggarai, color='r', linestyle='--', label='Siaga 1')\n",
    "plt.axvline(x=batas_siaga_2_manggarai, color='y', linestyle='--', label='Siaga 2')\n",
    "plt.axvline(x=batas_siaga_3_manggarai, color='b', linestyle='--', label='Siaga 3')\n",
    "\n",
    "# Menambahkan label dan judul\n",
    "plt.xlabel('Tinggi Muka Air')\n",
    "plt.ylabel('Probabilitas')\n",
    "plt.title('Distribusi Tinggi Muka Air dan Batas Siaga')\n",
    "plt.legend()\n",
    "\n",
    "# Menampilkan plot\n",
    "plt.show()"
   ]
  }
 ],
 "metadata": {
  "kernelspec": {
   "display_name": "env",
   "language": "python",
   "name": "python3"
  },
  "language_info": {
   "codemirror_mode": {
    "name": "ipython",
    "version": 3
   },
   "file_extension": ".py",
   "mimetype": "text/x-python",
   "name": "python",
   "nbconvert_exporter": "python",
   "pygments_lexer": "ipython3",
   "version": "3.11.4"
  }
 },
 "nbformat": 4,
 "nbformat_minor": 2
}
