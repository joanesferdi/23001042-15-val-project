{
  "cells": [
    {
      "cell_type": "code",
      "execution_count": 1,
      "metadata": {
        "id": "xPBSqp3oTv1n"
      },
      "outputs": [],
      "source": [
        "# Pertama kita definisikan library NumPy dan Matplotlib.\n",
        "# Library torch biasa digunakan untuk membangun model Machine Learning, khususnya Deep Learning.\n",
        "# Torch juga bisa digunakan untuk mempraktekan tugas yang biasa dihandle oleh NumPy. \n",
        "\n",
        "import torch\n",
        "import matplotlib.pyplot as plt"
      ]
    },
    {
      "cell_type": "code",
      "execution_count": 2,
      "metadata": {
        "id": "I_rdMvWwT3UH"
      },
      "outputs": [],
      "source": [
        "# Definisikan data ke dalam variabel \"xs\" dan \"ys\"\n",
        "\n",
        "xs = torch.tensor([0, 1, 2, 3, 4, 5, 6, 7.])\n",
        "ys = torch.tensor([1.86, 1.31, .62, .33, .09, -.67, -1.23, -1.37])"
      ]
    },
    {
      "cell_type": "code",
      "execution_count": 3,
      "metadata": {
        "colab": {
          "base_uri": "https://localhost:8080/"
        },
        "id": "ytm_6ThZT7C1",
        "outputId": "36adc52d-f904-4082-a548-db64b1ea29f4"
      },
      "outputs": [
        {
          "data": {
            "text/plain": [
              "tensor([0., 1., 2., 3., 4., 5., 6., 7.])"
            ]
          },
          "execution_count": 3,
          "metadata": {},
          "output_type": "execute_result"
        }
      ],
      "source": [
        "xs"
      ]
    },
    {
      "cell_type": "code",
      "execution_count": 4,
      "metadata": {
        "colab": {
          "base_uri": "https://localhost:8080/"
        },
        "id": "UeZ0lHUfT8rv",
        "outputId": "9e2ffb28-6464-4e1e-f3f4-c456f1ce7bc3"
      },
      "outputs": [
        {
          "data": {
            "text/plain": [
              "tensor([ 1.8600,  1.3100,  0.6200,  0.3300,  0.0900, -0.6700, -1.2300, -1.3700])"
            ]
          },
          "execution_count": 4,
          "metadata": {},
          "output_type": "execute_result"
        }
      ],
      "source": [
        "ys"
      ]
    },
    {
      "cell_type": "code",
      "execution_count": 5,
      "metadata": {
        "id": "0mLtMNb_T-qg"
      },
      "outputs": [],
      "source": [
        "# Definisikan sebuah persamaan regresi pada fungsi sebagai berikut:\n",
        "\n",
        "def regression(my_x, my_m, my_b):\n",
        "    return my_m*my_x + my_b"
      ]
    },
    {
      "cell_type": "markdown",
      "metadata": {},
      "source": [
        "**Step 1**: Forward pass"
      ]
    },
    {
      "cell_type": "code",
      "execution_count": 6,
      "metadata": {
        "id": "UN6Gh0ICULzJ"
      },
      "outputs": [],
      "source": [
        "# Pertama lakukan \"Forward Pass\" sehingga menghasilkan \"yhats\"\n",
        "m = torch.tensor([0.9]).requires_grad_()\n",
        "b = torch.tensor([0.1]).requires_grad_()"
      ]
    },
    {
      "cell_type": "code",
      "execution_count": 7,
      "metadata": {
        "colab": {
          "base_uri": "https://localhost:8080/"
        },
        "id": "CRcTSybTUSRq",
        "outputId": "20c690d8-2b14-4596-8337-d5745ba46de1"
      },
      "outputs": [
        {
          "data": {
            "text/plain": [
              "tensor([0.1000, 1.0000, 1.9000, 2.8000, 3.7000, 4.6000, 5.5000, 6.4000],\n",
              "       grad_fn=<AddBackward0>)"
            ]
          },
          "execution_count": 7,
          "metadata": {},
          "output_type": "execute_result"
        }
      ],
      "source": [
        "# Pertama lakukan \"Forward Pass\" sehingga menghasilkan \"yhats\"\n",
        "\n",
        "yhats = regression(xs, m, b)\n",
        "yhats"
      ]
    },
    {
      "cell_type": "markdown",
      "metadata": {},
      "source": [
        "**Step 2**: Compare $\\hat{y}$ with true $y$ to calculate cost $C$"
      ]
    },
    {
      "cell_type": "markdown",
      "metadata": {},
      "source": [
        "Hitung cost $C$ dengan mengoperasikan $\\hat{y}$ dan true $y$ menggunakan metode \"mean squared error\", yang mana metode bekerja dengan mengambil rata-rata quadratic cost di beberapa titik data, seperti pada persamaan berikut: $$C = \\frac{1}{n} \\sum_{i=1}^n (\\hat{y_i}-y_i)^2 $$"
      ]
    },
    {
      "cell_type": "code",
      "execution_count": 8,
      "metadata": {
        "id": "9O4P7pm9UXQF"
      },
      "outputs": [],
      "source": [
        "# Tulis metode \"mean squared error\" pada Python\n",
        "\n",
        "def mse(my_yhat, my_y):\n",
        "    sigma = torch.sum((my_yhat - my_y)**2)\n",
        "    return sigma/len(my_y)"
      ]
    },
    {
      "cell_type": "code",
      "execution_count": 9,
      "metadata": {
        "colab": {
          "base_uri": "https://localhost:8080/"
        },
        "id": "z1Oc5JVdUwll",
        "outputId": "442622bc-edb5-47ef-8dcf-393ee7f74b26"
      },
      "outputs": [
        {
          "data": {
            "text/plain": [
              "tensor(19.6755, grad_fn=<DivBackward0>)"
            ]
          },
          "execution_count": 9,
          "metadata": {},
          "output_type": "execute_result"
        }
      ],
      "source": [
        "# Hitung nilai cost\n",
        "\n",
        "C = mse(yhats, ys)\n",
        "C"
      ]
    },
    {
      "cell_type": "markdown",
      "metadata": {},
      "source": [
        "**Step 3**: Gunakan autodiff untuk menghitung gradient dari C dengan menggunakan parameters \"m\" dan \"b\""
      ]
    },
    {
      "cell_type": "code",
      "execution_count": 10,
      "metadata": {
        "colab": {
          "base_uri": "https://localhost:8080/"
        },
        "id": "PqSIB1S1U4vR",
        "outputId": "b0cab43c-94c8-4547-9fe0-03f102547556"
      },
      "outputs": [
        {
          "data": {
            "text/plain": [
              "tensor([6.2650])"
            ]
          },
          "execution_count": 10,
          "metadata": {},
          "output_type": "execute_result"
        }
      ],
      "source": [
        "C.backward()\n",
        "m.grad\n",
        "b.grad"
      ]
    },
    {
      "cell_type": "markdown",
      "metadata": {},
      "source": [
        "**Step 4**: Gradient descent"
      ]
    },
    {
      "cell_type": "code",
      "execution_count": 11,
      "metadata": {
        "id": "wrL9iBbvU_7u"
      },
      "outputs": [],
      "source": [
        "# Jalankan Gradient Descent dengan menjalankan perintah berikut\n",
        "\n",
        "optimizer_besar = torch.optim.SGD([m, b], lr=0.1)\n",
        "optimizer_besar.step()"
      ]
    },
    {
      "cell_type": "code",
      "execution_count": 12,
      "metadata": {
        "colab": {
          "base_uri": "https://localhost:8080/",
          "height": 472
        },
        "id": "l3J8WGPaVLuf",
        "outputId": "ce5c8d2d-0aad-404a-f176-81f4755ceb23"
      },
      "outputs": [
        {
          "data": {
            "image/png": "[encoded data removed]",
            "text/plain": [
              "<Figure size 640x480 with 1 Axes>"
            ]
          },
          "metadata": {},
          "output_type": "display_data"
        }
      ],
      "source": [
        "# Visualisasi hasil pemrosesan Gradient Descent\n",
        "def labeled_regression_plot(my_x, my_y, my_m, my_b, my_C, include_grad=True):\n",
        "\n",
        "    title = 'Cost = {}'.format('%.3g' % my_C.item())\n",
        "    if include_grad:\n",
        "        xlabel = 'm = {}, m grad = {}'.format('%.3g' % my_m.item(), '%.3g' % my_m.grad.item())\n",
        "        ylabel = 'b = {}, b grad = {}'.format('%.3g' % my_b.item(), '%.3g' % my_b.grad.item())\n",
        "    else:\n",
        "        xlabel = 'm = {}'.format('%.3g' % my_m.item())\n",
        "        ylabel = 'b = {}'.format('%.3g' % my_b.item())\n",
        "\n",
        "    fig, ax = plt.subplots()\n",
        "\n",
        "    plt.title(title)\n",
        "    plt.ylabel(ylabel)\n",
        "    plt.xlabel(xlabel)\n",
        "\n",
        "    ax.scatter(my_x, my_y, zorder=3)\n",
        "\n",
        "    x_min, x_max = ax.get_xlim()\n",
        "    y_min = regression(x_min, my_m, my_b).detach().item()\n",
        "    y_max = regression(x_max, my_m, my_b).detach().item()\n",
        "\n",
        "    ax.set_xlim([x_min, x_max])\n",
        "    _ = ax.plot([x_min, x_max], [y_min, y_max], c='C01')\n",
        "\n",
        "labeled_regression_plot(xs, ys, m, b, C, include_grad=False)"
      ]
    },
    {
      "cell_type": "markdown",
      "metadata": {},
      "source": [
        "learing rate besar.. hasilnya eror rate besar juga"
      ]
    },
    {
      "cell_type": "code",
      "execution_count": 11,
      "metadata": {
        "id": "Gz7X2WXSVT7p"
      },
      "outputs": [],
      "source": [
        "# Visualisasi hasil pemrosesan Gradient Descent\n",
        "\n",
        "optimizer_kecil = torch.optim.SGD([m, b], lr=0.0001)\n",
        "optimizer_kecil.step()"
      ]
    },
    {
      "cell_type": "code",
      "execution_count": 12,
      "metadata": {
        "colab": {
          "base_uri": "https://localhost:8080/",
          "height": 472
        },
        "id": "b5Q-TAk4W-sO",
        "outputId": "d860dfaa-97d6-4830-9926-cb7b729cf9c6"
      },
      "outputs": [
        {
          "data": {
            "image/png": "[encoded data removed]",
            "text/plain": [
              "<Figure size 640x480 with 1 Axes>"
            ]
          },
          "metadata": {},
          "output_type": "display_data"
        }
      ],
      "source": [
        "def labeled_regression_plot(my_x, my_y, my_m, my_b, my_C, include_grad=True):\n",
        "\n",
        "    title = 'Cost = {}'.format('%.3g' % my_C.item())\n",
        "    if include_grad:\n",
        "        xlabel = 'm = {}, m grad = {}'.format('%.3g' % my_m.item(), '%.3g' % my_m.grad.item())\n",
        "        ylabel = 'b = {}, b grad = {}'.format('%.3g' % my_b.item(), '%.3g' % my_b.grad.item())\n",
        "    else:\n",
        "        xlabel = 'm = {}'.format('%.3g' % my_m.item())\n",
        "        ylabel = 'b = {}'.format('%.3g' % my_b.item())\n",
        "\n",
        "    fig, ax = plt.subplots()\n",
        "\n",
        "    plt.title(title)\n",
        "    plt.ylabel(ylabel)\n",
        "    plt.xlabel(xlabel)\n",
        "\n",
        "    ax.scatter(my_x, my_y, zorder=3)\n",
        "\n",
        "    x_min, x_max = ax.get_xlim()\n",
        "    y_min = regression(x_min, my_m, my_b).detach().item()\n",
        "    y_max = regression(x_max, my_m, my_b).detach().item()\n",
        "\n",
        "    ax.set_xlim([x_min, x_max])\n",
        "    _ = ax.plot([x_min, x_max], [y_min, y_max], c='C01')\n",
        "\n",
        "labeled_regression_plot(xs, ys, m, b, C, include_grad=False)"
      ]
    },
    {
      "cell_type": "markdown",
      "metadata": {},
      "source": [
        "learning rate kescil.. hasilnya eror rate akan perlahan semakin kecil"
      ]
    }
  ],
  "metadata": {
    "colab": {
      "provenance": []
    },
    "kernelspec": {
      "display_name": "Python 3",
      "name": "python3"
    },
    "language_info": {
      "name": "python",
      "version": "3.11.4"
    }
  },
  "nbformat": 4,
  "nbformat_minor": 0
}
