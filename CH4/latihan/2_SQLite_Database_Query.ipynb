{
 "cells": [
  {
   "cell_type": "markdown",
   "metadata": {},
   "source": [
    "# Learn SQLite3 Database Query\n",
    "\n",
    "---\n",
    "\n",
    "In this section we will focus on learning SQLite Syntax for Query Data and its functions\n",
    "\n",
    "**To Do:** Load DataFrame `taxis` from seaborn to pandas, then create SQLite3 database called `taxi.db` then insert the dataframe to SQLite with table name `taxi_data`"
   ]
  },
  {
   "cell_type": "code",
   "execution_count": null,
   "metadata": {},
   "outputs": [],
   "source": [
    "# Import Library\n",
    "\n"
   ]
  },
  {
   "cell_type": "code",
   "execution_count": null,
   "metadata": {},
   "outputs": [],
   "source": [
    "# Get taxis dataframe from seaborn using load_dataset and show first 5 rows\n"
   ]
  },
  {
   "cell_type": "code",
   "execution_count": null,
   "metadata": {},
   "outputs": [],
   "source": [
    "# Create connection to sqlite database\n"
   ]
  },
  {
   "cell_type": "code",
   "execution_count": null,
   "metadata": {},
   "outputs": [],
   "source": [
    "# Insert taxis dataframe into sqlite database using to_sql method\n"
   ]
  },
  {
   "cell_type": "markdown",
   "metadata": {},
   "source": [
    "---\n",
    "\n",
    "## Read SQLite Table and create the dataframe\n",
    "\n",
    "As we know, to read data from SQLite, we usually create connection, create cursor then read the data, this will return the result data in list, to create dataframe from it, we can use `cursor.description`\n",
    "\n",
    "**To Do:** Select * from taxi_data table by limit 10, get the column, and create dataframe from it"
   ]
  },
  {
   "cell_type": "code",
   "execution_count": null,
   "metadata": {},
   "outputs": [],
   "source": []
  },
  {
   "cell_type": "code",
   "execution_count": null,
   "metadata": {},
   "outputs": [],
   "source": []
  },
  {
   "cell_type": "code",
   "execution_count": null,
   "metadata": {},
   "outputs": [],
   "source": []
  },
  {
   "cell_type": "markdown",
   "metadata": {},
   "source": [
    "**To Do:** Create Python Function that automatically read query and output dataframe"
   ]
  },
  {
   "cell_type": "code",
   "execution_count": null,
   "metadata": {},
   "outputs": [],
   "source": []
  },
  {
   "cell_type": "code",
   "execution_count": null,
   "metadata": {},
   "outputs": [],
   "source": []
  },
  {
   "cell_type": "code",
   "execution_count": null,
   "metadata": {},
   "outputs": [],
   "source": []
  },
  {
   "cell_type": "markdown",
   "metadata": {},
   "source": [
    "___\n",
    "\n",
    "## Query Data using pandas read_sql method\n",
    "\n",
    "**To Do:** Create dataframe `taxi_df` using query in pandas given the connection"
   ]
  },
  {
   "cell_type": "code",
   "execution_count": null,
   "metadata": {},
   "outputs": [],
   "source": []
  },
  {
   "cell_type": "code",
   "execution_count": null,
   "metadata": {},
   "outputs": [],
   "source": []
  },
  {
   "cell_type": "markdown",
   "metadata": {},
   "source": [
    "___\n",
    "\n",
    "## Query Manipulation\n",
    "Since we already have SQLite Database with single table, we want to learn query manipulation to get data from the SQLite\n",
    "\n",
    "### Tasks:\n",
    "1. Get unique Payment used in taxi, How many unique pickup zone from the taxi data ?\n",
    "2. Get Maximum & Minimum Fare in taxi\n",
    "3. Get Top 5 of pickup zone with highest tip\n",
    "4. Get Average Distance of the taxi\n",
    "5. Get Average Distance of the taxi that use payment Credit Card vs Cash which one has the highest ?\n",
    "6. What is payment used from the longest distance in the taxi data\n",
    "7. How much is average fare for every taxi color ? \n",
    "8. Get Data of passengers, distance, fare, tip, and tolls for taxi that has pickup borough from manhattan that has tip more than average of tip from taxi passengers that has pickup borough from queens\n",
    "9. For Taxi that has yellow color, what is maximum distance, average fare, and average passengers for every taxi transaction drop borough\n",
    "10. For Taxi that has total tip above average tip given, show is average distance and average fare of each pickup_zone which has average trip distance more than 10 km, sort by highest average fare amount\n",
    "\n",
    "You can Try those query inside the jupyter or using DBeaver"
   ]
  },
  {
   "cell_type": "code",
   "execution_count": null,
   "metadata": {},
   "outputs": [],
   "source": []
  },
  {
   "cell_type": "code",
   "execution_count": null,
   "metadata": {},
   "outputs": [],
   "source": []
  },
  {
   "cell_type": "code",
   "execution_count": null,
   "metadata": {},
   "outputs": [],
   "source": []
  },
  {
   "cell_type": "code",
   "execution_count": null,
   "metadata": {},
   "outputs": [],
   "source": []
  },
  {
   "cell_type": "code",
   "execution_count": null,
   "metadata": {},
   "outputs": [],
   "source": []
  },
  {
   "cell_type": "code",
   "execution_count": null,
   "metadata": {},
   "outputs": [],
   "source": []
  }
 ],
 "metadata": {
  "kernelspec": {
   "display_name": "Python 3.9.5 ('base')",
   "language": "python",
   "name": "python3"
  },
  "language_info": {
   "codemirror_mode": {
    "name": "ipython",
    "version": 3
   },
   "file_extension": ".py",
   "mimetype": "text/x-python",
   "name": "python",
   "nbconvert_exporter": "python",
   "pygments_lexer": "ipython3",
   "version": "3.9.5"
  },
  "orig_nbformat": 4,
  "vscode": {
   "interpreter": {
    "hash": "bbe054f82611da69a236c20d185807936886c22cfa3db0ebeb109fb4db8ace57"
   }
  }
 },
 "nbformat": 4,
 "nbformat_minor": 2
}
