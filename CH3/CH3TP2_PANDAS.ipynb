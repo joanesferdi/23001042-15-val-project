{
 "cells": [
  {
   "cell_type": "markdown",
   "metadata": {
    "id": "No7AUQfEUbO2"
   },
   "source": [
    "# Install and import Pandas"
   ]
  },
  {
   "cell_type": "code",
   "execution_count": 1,
   "metadata": {
    "executionInfo": {
     "elapsed": 12,
     "status": "ok",
     "timestamp": 1658769488321,
     "user": {
      "displayName": "Moch. Ari Nasichuddin",
      "userId": "02079544481646304252"
     },
     "user_tz": -420
    },
    "id": "948zKthaUUrE"
   },
   "outputs": [
    {
     "name": "stdout",
     "output_type": "stream",
     "text": [
      "Requirement already satisfied: pandas in d:\\23001042-15-val-project-gold\\env\\lib\\site-packages (2.1.2)\n",
      "Requirement already satisfied: numpy<2,>=1.23.2 in d:\\23001042-15-val-project-gold\\env\\lib\\site-packages (from pandas) (1.26.1)\n",
      "Requirement already satisfied: python-dateutil>=2.8.2 in d:\\23001042-15-val-project-gold\\env\\lib\\site-packages (from pandas) (2.8.2)\n",
      "Requirement already satisfied: pytz>=2020.1 in d:\\23001042-15-val-project-gold\\env\\lib\\site-packages (from pandas) (2023.3.post1)\n",
      "Requirement already satisfied: tzdata>=2022.1 in d:\\23001042-15-val-project-gold\\env\\lib\\site-packages (from pandas) (2023.3)\n",
      "Requirement already satisfied: six>=1.5 in d:\\23001042-15-val-project-gold\\env\\lib\\site-packages (from python-dateutil>=2.8.2->pandas) (1.16.0)\n"
     ]
    }
   ],
   "source": [
    "!pip install pandas"
   ]
  },
  {
   "cell_type": "code",
   "execution_count": 2,
   "metadata": {
    "executionInfo": {
     "elapsed": 11,
     "status": "ok",
     "timestamp": 1658769488322,
     "user": {
      "displayName": "Moch. Ari Nasichuddin",
      "userId": "02079544481646304252"
     },
     "user_tz": -420
    },
    "id": "oDK3PX7xUhdB"
   },
   "outputs": [],
   "source": [
    "import pandas as pd"
   ]
  },
  {
   "cell_type": "markdown",
   "metadata": {
    "id": "iByBF_8IV3e4"
   },
   "source": [
    "# Creating DataFrames from scratch"
   ]
  },
  {
   "cell_type": "code",
   "execution_count": 3,
   "metadata": {
    "executionInfo": {
     "elapsed": 12,
     "status": "ok",
     "timestamp": 1658769488323,
     "user": {
      "displayName": "Moch. Ari Nasichuddin",
      "userId": "02079544481646304252"
     },
     "user_tz": -420
    },
    "id": "65tGrtwdVupI"
   },
   "outputs": [],
   "source": [
    "data = {\n",
    "       'apples': [3, 2, 0, 1], \n",
    "       'oranges': [0, 3, 7, 2]\n",
    "       }"
   ]
  },
  {
   "cell_type": "code",
   "execution_count": 4,
   "metadata": {
    "executionInfo": {
     "elapsed": 12,
     "status": "ok",
     "timestamp": 1658769488324,
     "user": {
      "displayName": "Moch. Ari Nasichuddin",
      "userId": "02079544481646304252"
     },
     "user_tz": -420
    },
    "id": "LDnprIwCVxJp"
   },
   "outputs": [],
   "source": [
    "purchases = pd.DataFrame(data)"
   ]
  },
  {
   "cell_type": "code",
   "execution_count": 5,
   "metadata": {
    "colab": {
     "base_uri": "https://localhost:8080/",
     "height": 175
    },
    "executionInfo": {
     "elapsed": 13,
     "status": "ok",
     "timestamp": 1658769488325,
     "user": {
      "displayName": "Moch. Ari Nasichuddin",
      "userId": "02079544481646304252"
     },
     "user_tz": -420
    },
    "id": "WEQ7s9vbu04C",
    "outputId": "6e795209-3c90-4ad8-acb9-0189f83f700e"
   },
   "outputs": [
    {
     "data": {
      "text/html": [
       "<div>\n",
       "<style scoped>\n",
       "    .dataframe tbody tr th:only-of-type {\n",
       "        vertical-align: middle;\n",
       "    }\n",
       "\n",
       "    .dataframe tbody tr th {\n",
       "        vertical-align: top;\n",
       "    }\n",
       "\n",
       "    .dataframe thead th {\n",
       "        text-align: right;\n",
       "    }\n",
       "</style>\n",
       "<table border=\"1\" class=\"dataframe\">\n",
       "  <thead>\n",
       "    <tr style=\"text-align: right;\">\n",
       "      <th></th>\n",
       "      <th>apples</th>\n",
       "      <th>oranges</th>\n",
       "    </tr>\n",
       "  </thead>\n",
       "  <tbody>\n",
       "    <tr>\n",
       "      <th>0</th>\n",
       "      <td>3</td>\n",
       "      <td>0</td>\n",
       "    </tr>\n",
       "    <tr>\n",
       "      <th>1</th>\n",
       "      <td>2</td>\n",
       "      <td>3</td>\n",
       "    </tr>\n",
       "    <tr>\n",
       "      <th>2</th>\n",
       "      <td>0</td>\n",
       "      <td>7</td>\n",
       "    </tr>\n",
       "    <tr>\n",
       "      <th>3</th>\n",
       "      <td>1</td>\n",
       "      <td>2</td>\n",
       "    </tr>\n",
       "  </tbody>\n",
       "</table>\n",
       "</div>"
      ],
      "text/plain": [
       "   apples  oranges\n",
       "0       3        0\n",
       "1       2        3\n",
       "2       0        7\n",
       "3       1        2"
      ]
     },
     "execution_count": 5,
     "metadata": {},
     "output_type": "execute_result"
    }
   ],
   "source": [
    "purchases"
   ]
  },
  {
   "cell_type": "code",
   "execution_count": 6,
   "metadata": {
    "executionInfo": {
     "elapsed": 12,
     "status": "ok",
     "timestamp": 1658769488326,
     "user": {
      "displayName": "Moch. Ari Nasichuddin",
      "userId": "02079544481646304252"
     },
     "user_tz": -420
    },
    "id": "76Z7rNeCVzPZ"
   },
   "outputs": [],
   "source": [
    "purchases = pd.DataFrame(data, index=['June', 'Robert', 'Lily', 'David'])"
   ]
  },
  {
   "cell_type": "code",
   "execution_count": 7,
   "metadata": {
    "colab": {
     "base_uri": "https://localhost:8080/",
     "height": 175
    },
    "executionInfo": {
     "elapsed": 9,
     "status": "ok",
     "timestamp": 1658769490472,
     "user": {
      "displayName": "Moch. Ari Nasichuddin",
      "userId": "02079544481646304252"
     },
     "user_tz": -420
    },
    "id": "OBtmlVWxu9l3",
    "outputId": "89a68e1e-4384-40e8-d81a-8f70b6ddde32",
    "scrolled": true
   },
   "outputs": [
    {
     "data": {
      "text/html": [
       "<div>\n",
       "<style scoped>\n",
       "    .dataframe tbody tr th:only-of-type {\n",
       "        vertical-align: middle;\n",
       "    }\n",
       "\n",
       "    .dataframe tbody tr th {\n",
       "        vertical-align: top;\n",
       "    }\n",
       "\n",
       "    .dataframe thead th {\n",
       "        text-align: right;\n",
       "    }\n",
       "</style>\n",
       "<table border=\"1\" class=\"dataframe\">\n",
       "  <thead>\n",
       "    <tr style=\"text-align: right;\">\n",
       "      <th></th>\n",
       "      <th>apples</th>\n",
       "      <th>oranges</th>\n",
       "    </tr>\n",
       "  </thead>\n",
       "  <tbody>\n",
       "    <tr>\n",
       "      <th>June</th>\n",
       "      <td>3</td>\n",
       "      <td>0</td>\n",
       "    </tr>\n",
       "    <tr>\n",
       "      <th>Robert</th>\n",
       "      <td>2</td>\n",
       "      <td>3</td>\n",
       "    </tr>\n",
       "    <tr>\n",
       "      <th>Lily</th>\n",
       "      <td>0</td>\n",
       "      <td>7</td>\n",
       "    </tr>\n",
       "    <tr>\n",
       "      <th>David</th>\n",
       "      <td>1</td>\n",
       "      <td>2</td>\n",
       "    </tr>\n",
       "  </tbody>\n",
       "</table>\n",
       "</div>"
      ],
      "text/plain": [
       "        apples  oranges\n",
       "June         3        0\n",
       "Robert       2        3\n",
       "Lily         0        7\n",
       "David        1        2"
      ]
     },
     "execution_count": 7,
     "metadata": {},
     "output_type": "execute_result"
    }
   ],
   "source": [
    "purchases"
   ]
  },
  {
   "cell_type": "code",
   "execution_count": 8,
   "metadata": {
    "colab": {
     "base_uri": "https://localhost:8080/"
    },
    "executionInfo": {
     "elapsed": 653,
     "status": "ok",
     "timestamp": 1658769491686,
     "user": {
      "displayName": "Moch. Ari Nasichuddin",
      "userId": "02079544481646304252"
     },
     "user_tz": -420
    },
    "id": "ImG1NvyjWGiX",
    "outputId": "5763edfe-ca51-415e-95be-3e5393105513"
   },
   "outputs": [
    {
     "data": {
      "text/plain": [
       "apples     2\n",
       "oranges    3\n",
       "Name: Robert, dtype: int64"
      ]
     },
     "execution_count": 8,
     "metadata": {},
     "output_type": "execute_result"
    }
   ],
   "source": [
    "purchases.loc['Robert']"
   ]
  },
  {
   "cell_type": "markdown",
   "metadata": {
    "id": "L-cuXTWNWSOS"
   },
   "source": [
    "# How to read in data"
   ]
  },
  {
   "cell_type": "markdown",
   "metadata": {
    "id": "_pDHOAMiWZmS"
   },
   "source": [
    "**Reading data from CSVs**"
   ]
  },
  {
   "cell_type": "code",
   "execution_count": 9,
   "metadata": {
    "executionInfo": {
     "elapsed": 372,
     "status": "ok",
     "timestamp": 1658769507743,
     "user": {
      "displayName": "Moch. Ari Nasichuddin",
      "userId": "02079544481646304252"
     },
     "user_tz": -420
    },
    "id": "Z4SkDDcgWO9V"
   },
   "outputs": [],
   "source": [
    "df = pd.read_csv('purchases.csv') # relative path"
   ]
  },
  {
   "cell_type": "code",
   "execution_count": 10,
   "metadata": {
    "colab": {
     "base_uri": "https://localhost:8080/",
     "height": 175
    },
    "executionInfo": {
     "elapsed": 7,
     "status": "ok",
     "timestamp": 1658769509342,
     "user": {
      "displayName": "Moch. Ari Nasichuddin",
      "userId": "02079544481646304252"
     },
     "user_tz": -420
    },
    "id": "XVIQUZ4xsFoc",
    "outputId": "b9c03530-99b9-4976-a356-3d2c680ad11f"
   },
   "outputs": [
    {
     "data": {
      "text/html": [
       "<div>\n",
       "<style scoped>\n",
       "    .dataframe tbody tr th:only-of-type {\n",
       "        vertical-align: middle;\n",
       "    }\n",
       "\n",
       "    .dataframe tbody tr th {\n",
       "        vertical-align: top;\n",
       "    }\n",
       "\n",
       "    .dataframe thead th {\n",
       "        text-align: right;\n",
       "    }\n",
       "</style>\n",
       "<table border=\"1\" class=\"dataframe\">\n",
       "  <thead>\n",
       "    <tr style=\"text-align: right;\">\n",
       "      <th></th>\n",
       "      <th>Unnamed: 0</th>\n",
       "      <th>apples</th>\n",
       "      <th>oranges</th>\n",
       "    </tr>\n",
       "  </thead>\n",
       "  <tbody>\n",
       "    <tr>\n",
       "      <th>0</th>\n",
       "      <td>June</td>\n",
       "      <td>3</td>\n",
       "      <td>0</td>\n",
       "    </tr>\n",
       "    <tr>\n",
       "      <th>1</th>\n",
       "      <td>Robert</td>\n",
       "      <td>2</td>\n",
       "      <td>3</td>\n",
       "    </tr>\n",
       "    <tr>\n",
       "      <th>2</th>\n",
       "      <td>Lily</td>\n",
       "      <td>0</td>\n",
       "      <td>7</td>\n",
       "    </tr>\n",
       "    <tr>\n",
       "      <th>3</th>\n",
       "      <td>David</td>\n",
       "      <td>1</td>\n",
       "      <td>2</td>\n",
       "    </tr>\n",
       "  </tbody>\n",
       "</table>\n",
       "</div>"
      ],
      "text/plain": [
       "  Unnamed: 0  apples  oranges\n",
       "0       June       3        0\n",
       "1     Robert       2        3\n",
       "2       Lily       0        7\n",
       "3      David       1        2"
      ]
     },
     "execution_count": 10,
     "metadata": {},
     "output_type": "execute_result"
    }
   ],
   "source": [
    "df"
   ]
  },
  {
   "cell_type": "code",
   "execution_count": 11,
   "metadata": {
    "executionInfo": {
     "elapsed": 355,
     "status": "ok",
     "timestamp": 1658769515400,
     "user": {
      "displayName": "Moch. Ari Nasichuddin",
      "userId": "02079544481646304252"
     },
     "user_tz": -420
    },
    "id": "sg_MJTbAXMED"
   },
   "outputs": [],
   "source": [
    "import pandas as pd\n",
    "df2 = pd.read_csv('D:/23001042-15-val-project-gold/CH3/purchases.csv', index_col=0)  # absolute path"
   ]
  },
  {
   "cell_type": "code",
   "execution_count": 12,
   "metadata": {
    "colab": {
     "base_uri": "https://localhost:8080/",
     "height": 175
    },
    "executionInfo": {
     "elapsed": 353,
     "status": "ok",
     "timestamp": 1658769516134,
     "user": {
      "displayName": "Moch. Ari Nasichuddin",
      "userId": "02079544481646304252"
     },
     "user_tz": -420
    },
    "id": "Ld1OFo73w4UK",
    "outputId": "82738233-ca8f-41a4-c893-25e414c389cf"
   },
   "outputs": [
    {
     "data": {
      "text/html": [
       "<div>\n",
       "<style scoped>\n",
       "    .dataframe tbody tr th:only-of-type {\n",
       "        vertical-align: middle;\n",
       "    }\n",
       "\n",
       "    .dataframe tbody tr th {\n",
       "        vertical-align: top;\n",
       "    }\n",
       "\n",
       "    .dataframe thead th {\n",
       "        text-align: right;\n",
       "    }\n",
       "</style>\n",
       "<table border=\"1\" class=\"dataframe\">\n",
       "  <thead>\n",
       "    <tr style=\"text-align: right;\">\n",
       "      <th></th>\n",
       "      <th>apples</th>\n",
       "      <th>oranges</th>\n",
       "    </tr>\n",
       "  </thead>\n",
       "  <tbody>\n",
       "    <tr>\n",
       "      <th>June</th>\n",
       "      <td>3</td>\n",
       "      <td>0</td>\n",
       "    </tr>\n",
       "    <tr>\n",
       "      <th>Robert</th>\n",
       "      <td>2</td>\n",
       "      <td>3</td>\n",
       "    </tr>\n",
       "    <tr>\n",
       "      <th>Lily</th>\n",
       "      <td>0</td>\n",
       "      <td>7</td>\n",
       "    </tr>\n",
       "    <tr>\n",
       "      <th>David</th>\n",
       "      <td>1</td>\n",
       "      <td>2</td>\n",
       "    </tr>\n",
       "  </tbody>\n",
       "</table>\n",
       "</div>"
      ],
      "text/plain": [
       "        apples  oranges\n",
       "June         3        0\n",
       "Robert       2        3\n",
       "Lily         0        7\n",
       "David        1        2"
      ]
     },
     "execution_count": 12,
     "metadata": {},
     "output_type": "execute_result"
    }
   ],
   "source": [
    "df2"
   ]
  },
  {
   "cell_type": "markdown",
   "metadata": {
    "id": "ZMxsMjJQXX-Y"
   },
   "source": [
    "**Reading data from JSON**"
   ]
  },
  {
   "cell_type": "code",
   "execution_count": 13,
   "metadata": {
    "executionInfo": {
     "elapsed": 3,
     "status": "ok",
     "timestamp": 1658769518313,
     "user": {
      "displayName": "Moch. Ari Nasichuddin",
      "userId": "02079544481646304252"
     },
     "user_tz": -420
    },
    "id": "71HhzOMsXS-T"
   },
   "outputs": [],
   "source": [
    "df = pd.read_json('purchases.json')"
   ]
  },
  {
   "cell_type": "code",
   "execution_count": 14,
   "metadata": {
    "colab": {
     "base_uri": "https://localhost:8080/",
     "height": 175
    },
    "executionInfo": {
     "elapsed": 7,
     "status": "ok",
     "timestamp": 1658769518778,
     "user": {
      "displayName": "Moch. Ari Nasichuddin",
      "userId": "02079544481646304252"
     },
     "user_tz": -420
    },
    "id": "eWZbsPFVxCAF",
    "outputId": "14cf6e4a-7508-4200-9bf9-1c7d7683847b"
   },
   "outputs": [
    {
     "data": {
      "text/html": [
       "<div>\n",
       "<style scoped>\n",
       "    .dataframe tbody tr th:only-of-type {\n",
       "        vertical-align: middle;\n",
       "    }\n",
       "\n",
       "    .dataframe tbody tr th {\n",
       "        vertical-align: top;\n",
       "    }\n",
       "\n",
       "    .dataframe thead th {\n",
       "        text-align: right;\n",
       "    }\n",
       "</style>\n",
       "<table border=\"1\" class=\"dataframe\">\n",
       "  <thead>\n",
       "    <tr style=\"text-align: right;\">\n",
       "      <th></th>\n",
       "      <th>apples</th>\n",
       "      <th>oranges</th>\n",
       "    </tr>\n",
       "  </thead>\n",
       "  <tbody>\n",
       "    <tr>\n",
       "      <th>June</th>\n",
       "      <td>3</td>\n",
       "      <td>0</td>\n",
       "    </tr>\n",
       "    <tr>\n",
       "      <th>Robert</th>\n",
       "      <td>2</td>\n",
       "      <td>3</td>\n",
       "    </tr>\n",
       "    <tr>\n",
       "      <th>Lily</th>\n",
       "      <td>0</td>\n",
       "      <td>7</td>\n",
       "    </tr>\n",
       "    <tr>\n",
       "      <th>David</th>\n",
       "      <td>1</td>\n",
       "      <td>2</td>\n",
       "    </tr>\n",
       "  </tbody>\n",
       "</table>\n",
       "</div>"
      ],
      "text/plain": [
       "        apples  oranges\n",
       "June         3        0\n",
       "Robert       2        3\n",
       "Lily         0        7\n",
       "David        1        2"
      ]
     },
     "execution_count": 14,
     "metadata": {},
     "output_type": "execute_result"
    }
   ],
   "source": [
    "df"
   ]
  },
  {
   "cell_type": "markdown",
   "metadata": {
    "id": "EnG_Gscex4_J"
   },
   "source": [
    "**Reading from SqlLite**"
   ]
  },
  {
   "cell_type": "code",
   "execution_count": 15,
   "metadata": {
    "executionInfo": {
     "elapsed": 412,
     "status": "ok",
     "timestamp": 1658769520547,
     "user": {
      "displayName": "Moch. Ari Nasichuddin",
      "userId": "02079544481646304252"
     },
     "user_tz": -420
    },
    "id": "RT54tSVjx9lP"
   },
   "outputs": [],
   "source": [
    "import sqlite3\n",
    "import pandas as pd\n",
    "\n",
    "cnx = sqlite3.connect('data.db')\n",
    "\n",
    "df = pd.read_sql_query(\"SELECT * FROM tweets\", cnx)"
   ]
  },
  {
   "cell_type": "code",
   "execution_count": 16,
   "metadata": {
    "colab": {
     "base_uri": "https://localhost:8080/",
     "height": 572
    },
    "executionInfo": {
     "elapsed": 62,
     "status": "ok",
     "timestamp": 1658769521057,
     "user": {
      "displayName": "Moch. Ari Nasichuddin",
      "userId": "02079544481646304252"
     },
     "user_tz": -420
    },
    "id": "Q1sf0YniySDw",
    "outputId": "43a699b3-ae72-4705-d073-205f27894794"
   },
   "outputs": [
    {
     "data": {
      "text/html": [
       "<div>\n",
       "<style scoped>\n",
       "    .dataframe tbody tr th:only-of-type {\n",
       "        vertical-align: middle;\n",
       "    }\n",
       "\n",
       "    .dataframe tbody tr th {\n",
       "        vertical-align: top;\n",
       "    }\n",
       "\n",
       "    .dataframe thead th {\n",
       "        text-align: right;\n",
       "    }\n",
       "</style>\n",
       "<table border=\"1\" class=\"dataframe\">\n",
       "  <thead>\n",
       "    <tr style=\"text-align: right;\">\n",
       "      <th></th>\n",
       "      <th>username</th>\n",
       "      <th>text</th>\n",
       "      <th>retweet_count</th>\n",
       "    </tr>\n",
       "  </thead>\n",
       "  <tbody>\n",
       "    <tr>\n",
       "      <th>0</th>\n",
       "      <td>kembarannyaimas</td>\n",
       "      <td>RT @septian: Sekadar mengingatkan: hasil uji k...</td>\n",
       "      <td>0</td>\n",
       "    </tr>\n",
       "    <tr>\n",
       "      <th>1</th>\n",
       "      <td>Rian170363Az</td>\n",
       "      <td>RT @MrsRachelIn: Vaksin corona tiba, Jokowi mi...</td>\n",
       "      <td>0</td>\n",
       "    </tr>\n",
       "    <tr>\n",
       "      <th>2</th>\n",
       "      <td>ayu_yude</td>\n",
       "      <td>RT @jokowi: Semenjak dari awal, saya mengingat...</td>\n",
       "      <td>0</td>\n",
       "    </tr>\n",
       "    <tr>\n",
       "      <th>3</th>\n",
       "      <td>cak_iwan</td>\n",
       "      <td>RT @septian: Sekadar mengingatkan: hasil uji k...</td>\n",
       "      <td>0</td>\n",
       "    </tr>\n",
       "    <tr>\n",
       "      <th>4</th>\n",
       "      <td>vayakikin</td>\n",
       "      <td>RT @AndreasMarbun_: tanggung jawab pemberantas...</td>\n",
       "      <td>0</td>\n",
       "    </tr>\n",
       "    <tr>\n",
       "      <th>...</th>\n",
       "      <td>...</td>\n",
       "      <td>...</td>\n",
       "      <td>...</td>\n",
       "    </tr>\n",
       "    <tr>\n",
       "      <th>5634</th>\n",
       "      <td>endanghidayat</td>\n",
       "      <td>RT @CNNIndonesia: Bentrok Polisi-FPI, KAMI Des...</td>\n",
       "      <td>0</td>\n",
       "    </tr>\n",
       "    <tr>\n",
       "      <th>5635</th>\n",
       "      <td>Akun_Purwokerto</td>\n",
       "      <td>RT @SOERYAWAD1: Dimohon kpd para buruh dan tem...</td>\n",
       "      <td>0</td>\n",
       "    </tr>\n",
       "    <tr>\n",
       "      <th>5636</th>\n",
       "      <td>AA_Gum_</td>\n",
       "      <td>RT @MegaSimarmata: Mundurlah Bapak Kapolda Met...</td>\n",
       "      <td>0</td>\n",
       "    </tr>\n",
       "    <tr>\n",
       "      <th>5637</th>\n",
       "      <td>BaksoAc10516490</td>\n",
       "      <td>@detikcom seiring di sahkannya omnibuslaw ini ...</td>\n",
       "      <td>0</td>\n",
       "    </tr>\n",
       "    <tr>\n",
       "      <th>5638</th>\n",
       "      <td>indraanurdin</td>\n",
       "      <td>Parasit</td>\n",
       "      <td>0</td>\n",
       "    </tr>\n",
       "  </tbody>\n",
       "</table>\n",
       "<p>5639 rows × 3 columns</p>\n",
       "</div>"
      ],
      "text/plain": [
       "             username                                               text  \\\n",
       "0     kembarannyaimas  RT @septian: Sekadar mengingatkan: hasil uji k...   \n",
       "1        Rian170363Az  RT @MrsRachelIn: Vaksin corona tiba, Jokowi mi...   \n",
       "2            ayu_yude  RT @jokowi: Semenjak dari awal, saya mengingat...   \n",
       "3            cak_iwan  RT @septian: Sekadar mengingatkan: hasil uji k...   \n",
       "4           vayakikin  RT @AndreasMarbun_: tanggung jawab pemberantas...   \n",
       "...               ...                                                ...   \n",
       "5634    endanghidayat  RT @CNNIndonesia: Bentrok Polisi-FPI, KAMI Des...   \n",
       "5635  Akun_Purwokerto  RT @SOERYAWAD1: Dimohon kpd para buruh dan tem...   \n",
       "5636          AA_Gum_  RT @MegaSimarmata: Mundurlah Bapak Kapolda Met...   \n",
       "5637  BaksoAc10516490  @detikcom seiring di sahkannya omnibuslaw ini ...   \n",
       "5638     indraanurdin                                            Parasit   \n",
       "\n",
       "     retweet_count  \n",
       "0                0  \n",
       "1                0  \n",
       "2                0  \n",
       "3                0  \n",
       "4                0  \n",
       "...            ...  \n",
       "5634             0  \n",
       "5635             0  \n",
       "5636             0  \n",
       "5637             0  \n",
       "5638             0  \n",
       "\n",
       "[5639 rows x 3 columns]"
      ]
     },
     "execution_count": 16,
     "metadata": {},
     "output_type": "execute_result"
    }
   ],
   "source": [
    "df"
   ]
  },
  {
   "cell_type": "code",
   "execution_count": 17,
   "metadata": {},
   "outputs": [
    {
     "data": {
      "text/html": [
       "<div>\n",
       "<style scoped>\n",
       "    .dataframe tbody tr th:only-of-type {\n",
       "        vertical-align: middle;\n",
       "    }\n",
       "\n",
       "    .dataframe tbody tr th {\n",
       "        vertical-align: top;\n",
       "    }\n",
       "\n",
       "    .dataframe thead th {\n",
       "        text-align: right;\n",
       "    }\n",
       "</style>\n",
       "<table border=\"1\" class=\"dataframe\">\n",
       "  <thead>\n",
       "    <tr style=\"text-align: right;\">\n",
       "      <th></th>\n",
       "      <th>username</th>\n",
       "    </tr>\n",
       "  </thead>\n",
       "  <tbody>\n",
       "    <tr>\n",
       "      <th>0</th>\n",
       "      <td>kembarannyaimas</td>\n",
       "    </tr>\n",
       "    <tr>\n",
       "      <th>1</th>\n",
       "      <td>Rian170363Az</td>\n",
       "    </tr>\n",
       "    <tr>\n",
       "      <th>2</th>\n",
       "      <td>ayu_yude</td>\n",
       "    </tr>\n",
       "    <tr>\n",
       "      <th>3</th>\n",
       "      <td>cak_iwan</td>\n",
       "    </tr>\n",
       "    <tr>\n",
       "      <th>4</th>\n",
       "      <td>vayakikin</td>\n",
       "    </tr>\n",
       "    <tr>\n",
       "      <th>...</th>\n",
       "      <td>...</td>\n",
       "    </tr>\n",
       "    <tr>\n",
       "      <th>5634</th>\n",
       "      <td>endanghidayat</td>\n",
       "    </tr>\n",
       "    <tr>\n",
       "      <th>5635</th>\n",
       "      <td>Akun_Purwokerto</td>\n",
       "    </tr>\n",
       "    <tr>\n",
       "      <th>5636</th>\n",
       "      <td>AA_Gum_</td>\n",
       "    </tr>\n",
       "    <tr>\n",
       "      <th>5637</th>\n",
       "      <td>BaksoAc10516490</td>\n",
       "    </tr>\n",
       "    <tr>\n",
       "      <th>5638</th>\n",
       "      <td>indraanurdin</td>\n",
       "    </tr>\n",
       "  </tbody>\n",
       "</table>\n",
       "<p>5639 rows × 1 columns</p>\n",
       "</div>"
      ],
      "text/plain": [
       "             username\n",
       "0     kembarannyaimas\n",
       "1        Rian170363Az\n",
       "2            ayu_yude\n",
       "3            cak_iwan\n",
       "4           vayakikin\n",
       "...               ...\n",
       "5634    endanghidayat\n",
       "5635  Akun_Purwokerto\n",
       "5636          AA_Gum_\n",
       "5637  BaksoAc10516490\n",
       "5638     indraanurdin\n",
       "\n",
       "[5639 rows x 1 columns]"
      ]
     },
     "execution_count": 17,
     "metadata": {},
     "output_type": "execute_result"
    }
   ],
   "source": [
    "df_2 = pd.read_sql_query(\"SELECT username FROM tweets\", cnx)\n",
    "df_2"
   ]
  },
  {
   "cell_type": "markdown",
   "metadata": {
    "id": "pIJGvaDXX8tc"
   },
   "source": [
    "# Converting back to a CSV, JSON, or SQL"
   ]
  },
  {
   "cell_type": "code",
   "execution_count": 18,
   "metadata": {},
   "outputs": [
    {
     "name": "stdout",
     "output_type": "stream",
     "text": [
      "Requirement already satisfied: openpyxl in d:\\23001042-15-val-project-gold\\env\\lib\\site-packages (3.1.2)\n",
      "Requirement already satisfied: et-xmlfile in d:\\23001042-15-val-project-gold\\env\\lib\\site-packages (from openpyxl) (1.1.0)\n"
     ]
    }
   ],
   "source": [
    "!pip install openpyxl "
   ]
  },
  {
   "cell_type": "code",
   "execution_count": 19,
   "metadata": {
    "id": "yaMyhTr5o9ZA"
   },
   "outputs": [],
   "source": [
    "df.to_excel('new_purchases.xlsx')"
   ]
  },
  {
   "cell_type": "code",
   "execution_count": 20,
   "metadata": {
    "id": "zVetU1aWX1e6"
   },
   "outputs": [],
   "source": [
    "df.to_json('new_purchases.json')"
   ]
  },
  {
   "cell_type": "markdown",
   "metadata": {
    "id": "ubQW_OK_YJ_F"
   },
   "source": [
    "# Most important DataFrame operations"
   ]
  },
  {
   "cell_type": "code",
   "execution_count": 21,
   "metadata": {
    "executionInfo": {
     "elapsed": 359,
     "status": "ok",
     "timestamp": 1658769540948,
     "user": {
      "displayName": "Moch. Ari Nasichuddin",
      "userId": "02079544481646304252"
     },
     "user_tz": -420
    },
    "id": "ofMTY9uJYAi7"
   },
   "outputs": [],
   "source": [
    "import pandas as pd\n",
    "df = pd.read_csv(\"IMDB-Movie-Data.csv\")"
   ]
  },
  {
   "cell_type": "markdown",
   "metadata": {
    "id": "rMUUMHDiYcIZ"
   },
   "source": [
    "**Viewing your data**"
   ]
  },
  {
   "cell_type": "code",
   "execution_count": 22,
   "metadata": {
    "colab": {
     "base_uri": "https://localhost:8080/",
     "height": 583
    },
    "executionInfo": {
     "elapsed": 371,
     "status": "ok",
     "timestamp": 1658769544604,
     "user": {
      "displayName": "Moch. Ari Nasichuddin",
      "userId": "02079544481646304252"
     },
     "user_tz": -420
    },
    "id": "eVzWH29BYZ_o",
    "outputId": "3aadb890-0aae-4793-c500-a39e0978e5a9"
   },
   "outputs": [
    {
     "data": {
      "text/html": [
       "<div>\n",
       "<style scoped>\n",
       "    .dataframe tbody tr th:only-of-type {\n",
       "        vertical-align: middle;\n",
       "    }\n",
       "\n",
       "    .dataframe tbody tr th {\n",
       "        vertical-align: top;\n",
       "    }\n",
       "\n",
       "    .dataframe thead th {\n",
       "        text-align: right;\n",
       "    }\n",
       "</style>\n",
       "<table border=\"1\" class=\"dataframe\">\n",
       "  <thead>\n",
       "    <tr style=\"text-align: right;\">\n",
       "      <th></th>\n",
       "      <th>Rank</th>\n",
       "      <th>Title</th>\n",
       "      <th>Genre</th>\n",
       "      <th>Description</th>\n",
       "      <th>Director</th>\n",
       "      <th>Actors</th>\n",
       "      <th>Year</th>\n",
       "      <th>Runtime (Minutes)</th>\n",
       "      <th>Rating</th>\n",
       "      <th>Votes</th>\n",
       "      <th>Revenue (Millions)</th>\n",
       "      <th>Metascore</th>\n",
       "    </tr>\n",
       "  </thead>\n",
       "  <tbody>\n",
       "    <tr>\n",
       "      <th>0</th>\n",
       "      <td>1</td>\n",
       "      <td>Guardians of the Galaxy</td>\n",
       "      <td>Action,Adventure,Sci-Fi</td>\n",
       "      <td>A group of intergalactic criminals are forced ...</td>\n",
       "      <td>James Gunn</td>\n",
       "      <td>Chris Pratt, Vin Diesel, Bradley Cooper, Zoe S...</td>\n",
       "      <td>2014</td>\n",
       "      <td>121</td>\n",
       "      <td>8.1</td>\n",
       "      <td>757074</td>\n",
       "      <td>333.13</td>\n",
       "      <td>76.0</td>\n",
       "    </tr>\n",
       "    <tr>\n",
       "      <th>1</th>\n",
       "      <td>2</td>\n",
       "      <td>Prometheus</td>\n",
       "      <td>Adventure,Mystery,Sci-Fi</td>\n",
       "      <td>Following clues to the origin of mankind, a te...</td>\n",
       "      <td>Ridley Scott</td>\n",
       "      <td>Noomi Rapace, Logan Marshall-Green, Michael Fa...</td>\n",
       "      <td>2012</td>\n",
       "      <td>124</td>\n",
       "      <td>7.0</td>\n",
       "      <td>485820</td>\n",
       "      <td>126.46</td>\n",
       "      <td>65.0</td>\n",
       "    </tr>\n",
       "    <tr>\n",
       "      <th>2</th>\n",
       "      <td>3</td>\n",
       "      <td>Split</td>\n",
       "      <td>Horror,Thriller</td>\n",
       "      <td>Three girls are kidnapped by a man with a diag...</td>\n",
       "      <td>M. Night Shyamalan</td>\n",
       "      <td>James McAvoy, Anya Taylor-Joy, Haley Lu Richar...</td>\n",
       "      <td>2016</td>\n",
       "      <td>117</td>\n",
       "      <td>7.3</td>\n",
       "      <td>157606</td>\n",
       "      <td>138.12</td>\n",
       "      <td>62.0</td>\n",
       "    </tr>\n",
       "    <tr>\n",
       "      <th>3</th>\n",
       "      <td>4</td>\n",
       "      <td>Sing</td>\n",
       "      <td>Animation,Comedy,Family</td>\n",
       "      <td>In a city of humanoid animals, a hustling thea...</td>\n",
       "      <td>Christophe Lourdelet</td>\n",
       "      <td>Matthew McConaughey,Reese Witherspoon, Seth Ma...</td>\n",
       "      <td>2016</td>\n",
       "      <td>108</td>\n",
       "      <td>7.2</td>\n",
       "      <td>60545</td>\n",
       "      <td>270.32</td>\n",
       "      <td>59.0</td>\n",
       "    </tr>\n",
       "    <tr>\n",
       "      <th>4</th>\n",
       "      <td>5</td>\n",
       "      <td>Suicide Squad</td>\n",
       "      <td>Action,Adventure,Fantasy</td>\n",
       "      <td>A secret government agency recruits some of th...</td>\n",
       "      <td>David Ayer</td>\n",
       "      <td>Will Smith, Jared Leto, Margot Robbie, Viola D...</td>\n",
       "      <td>2016</td>\n",
       "      <td>123</td>\n",
       "      <td>6.2</td>\n",
       "      <td>393727</td>\n",
       "      <td>325.02</td>\n",
       "      <td>40.0</td>\n",
       "    </tr>\n",
       "  </tbody>\n",
       "</table>\n",
       "</div>"
      ],
      "text/plain": [
       "   Rank                    Title                     Genre  \\\n",
       "0     1  Guardians of the Galaxy   Action,Adventure,Sci-Fi   \n",
       "1     2               Prometheus  Adventure,Mystery,Sci-Fi   \n",
       "2     3                    Split           Horror,Thriller   \n",
       "3     4                     Sing   Animation,Comedy,Family   \n",
       "4     5            Suicide Squad  Action,Adventure,Fantasy   \n",
       "\n",
       "                                         Description              Director  \\\n",
       "0  A group of intergalactic criminals are forced ...            James Gunn   \n",
       "1  Following clues to the origin of mankind, a te...          Ridley Scott   \n",
       "2  Three girls are kidnapped by a man with a diag...    M. Night Shyamalan   \n",
       "3  In a city of humanoid animals, a hustling thea...  Christophe Lourdelet   \n",
       "4  A secret government agency recruits some of th...            David Ayer   \n",
       "\n",
       "                                              Actors  Year  Runtime (Minutes)  \\\n",
       "0  Chris Pratt, Vin Diesel, Bradley Cooper, Zoe S...  2014                121   \n",
       "1  Noomi Rapace, Logan Marshall-Green, Michael Fa...  2012                124   \n",
       "2  James McAvoy, Anya Taylor-Joy, Haley Lu Richar...  2016                117   \n",
       "3  Matthew McConaughey,Reese Witherspoon, Seth Ma...  2016                108   \n",
       "4  Will Smith, Jared Leto, Margot Robbie, Viola D...  2016                123   \n",
       "\n",
       "   Rating   Votes  Revenue (Millions)  Metascore  \n",
       "0     8.1  757074              333.13       76.0  \n",
       "1     7.0  485820              126.46       65.0  \n",
       "2     7.3  157606              138.12       62.0  \n",
       "3     7.2   60545              270.32       59.0  \n",
       "4     6.2  393727              325.02       40.0  "
      ]
     },
     "execution_count": 22,
     "metadata": {},
     "output_type": "execute_result"
    }
   ],
   "source": [
    "df.head()"
   ]
  },
  {
   "cell_type": "code",
   "execution_count": 23,
   "metadata": {},
   "outputs": [],
   "source": [
    "# bowo\n",
    "# df.head(0:2)"
   ]
  },
  {
   "cell_type": "code",
   "execution_count": 24,
   "metadata": {},
   "outputs": [
    {
     "data": {
      "text/html": [
       "<div>\n",
       "<style scoped>\n",
       "    .dataframe tbody tr th:only-of-type {\n",
       "        vertical-align: middle;\n",
       "    }\n",
       "\n",
       "    .dataframe tbody tr th {\n",
       "        vertical-align: top;\n",
       "    }\n",
       "\n",
       "    .dataframe thead th {\n",
       "        text-align: right;\n",
       "    }\n",
       "</style>\n",
       "<table border=\"1\" class=\"dataframe\">\n",
       "  <thead>\n",
       "    <tr style=\"text-align: right;\">\n",
       "      <th></th>\n",
       "      <th>Rank</th>\n",
       "      <th>Title</th>\n",
       "      <th>Genre</th>\n",
       "      <th>Description</th>\n",
       "      <th>Director</th>\n",
       "      <th>Actors</th>\n",
       "      <th>Year</th>\n",
       "      <th>Runtime (Minutes)</th>\n",
       "      <th>Rating</th>\n",
       "      <th>Votes</th>\n",
       "      <th>Revenue (Millions)</th>\n",
       "      <th>Metascore</th>\n",
       "    </tr>\n",
       "  </thead>\n",
       "  <tbody>\n",
       "    <tr>\n",
       "      <th>0</th>\n",
       "      <td>1</td>\n",
       "      <td>Guardians of the Galaxy</td>\n",
       "      <td>Action,Adventure,Sci-Fi</td>\n",
       "      <td>A group of intergalactic criminals are forced ...</td>\n",
       "      <td>James Gunn</td>\n",
       "      <td>Chris Pratt, Vin Diesel, Bradley Cooper, Zoe S...</td>\n",
       "      <td>2014</td>\n",
       "      <td>121</td>\n",
       "      <td>8.1</td>\n",
       "      <td>757074</td>\n",
       "      <td>333.13</td>\n",
       "      <td>76.0</td>\n",
       "    </tr>\n",
       "    <tr>\n",
       "      <th>1</th>\n",
       "      <td>2</td>\n",
       "      <td>Prometheus</td>\n",
       "      <td>Adventure,Mystery,Sci-Fi</td>\n",
       "      <td>Following clues to the origin of mankind, a te...</td>\n",
       "      <td>Ridley Scott</td>\n",
       "      <td>Noomi Rapace, Logan Marshall-Green, Michael Fa...</td>\n",
       "      <td>2012</td>\n",
       "      <td>124</td>\n",
       "      <td>7.0</td>\n",
       "      <td>485820</td>\n",
       "      <td>126.46</td>\n",
       "      <td>65.0</td>\n",
       "    </tr>\n",
       "    <tr>\n",
       "      <th>2</th>\n",
       "      <td>3</td>\n",
       "      <td>Split</td>\n",
       "      <td>Horror,Thriller</td>\n",
       "      <td>Three girls are kidnapped by a man with a diag...</td>\n",
       "      <td>M. Night Shyamalan</td>\n",
       "      <td>James McAvoy, Anya Taylor-Joy, Haley Lu Richar...</td>\n",
       "      <td>2016</td>\n",
       "      <td>117</td>\n",
       "      <td>7.3</td>\n",
       "      <td>157606</td>\n",
       "      <td>138.12</td>\n",
       "      <td>62.0</td>\n",
       "    </tr>\n",
       "  </tbody>\n",
       "</table>\n",
       "</div>"
      ],
      "text/plain": [
       "   Rank                    Title                     Genre  \\\n",
       "0     1  Guardians of the Galaxy   Action,Adventure,Sci-Fi   \n",
       "1     2               Prometheus  Adventure,Mystery,Sci-Fi   \n",
       "2     3                    Split           Horror,Thriller   \n",
       "\n",
       "                                         Description            Director  \\\n",
       "0  A group of intergalactic criminals are forced ...          James Gunn   \n",
       "1  Following clues to the origin of mankind, a te...        Ridley Scott   \n",
       "2  Three girls are kidnapped by a man with a diag...  M. Night Shyamalan   \n",
       "\n",
       "                                              Actors  Year  Runtime (Minutes)  \\\n",
       "0  Chris Pratt, Vin Diesel, Bradley Cooper, Zoe S...  2014                121   \n",
       "1  Noomi Rapace, Logan Marshall-Green, Michael Fa...  2012                124   \n",
       "2  James McAvoy, Anya Taylor-Joy, Haley Lu Richar...  2016                117   \n",
       "\n",
       "   Rating   Votes  Revenue (Millions)  Metascore  \n",
       "0     8.1  757074              333.13       76.0  \n",
       "1     7.0  485820              126.46       65.0  \n",
       "2     7.3  157606              138.12       62.0  "
      ]
     },
     "execution_count": 24,
     "metadata": {},
     "output_type": "execute_result"
    }
   ],
   "source": [
    "# ghiyats\n",
    "df.head(3)"
   ]
  },
  {
   "cell_type": "code",
   "execution_count": 25,
   "metadata": {
    "colab": {
     "base_uri": "https://localhost:8080/",
     "height": 617
    },
    "executionInfo": {
     "elapsed": 7,
     "status": "ok",
     "timestamp": 1658769546077,
     "user": {
      "displayName": "Moch. Ari Nasichuddin",
      "userId": "02079544481646304252"
     },
     "user_tz": -420
    },
    "id": "vVnyo5rWYh4u",
    "outputId": "34f79b23-6fe2-4940-a05f-df806dc992b9"
   },
   "outputs": [
    {
     "data": {
      "text/html": [
       "<div>\n",
       "<style scoped>\n",
       "    .dataframe tbody tr th:only-of-type {\n",
       "        vertical-align: middle;\n",
       "    }\n",
       "\n",
       "    .dataframe tbody tr th {\n",
       "        vertical-align: top;\n",
       "    }\n",
       "\n",
       "    .dataframe thead th {\n",
       "        text-align: right;\n",
       "    }\n",
       "</style>\n",
       "<table border=\"1\" class=\"dataframe\">\n",
       "  <thead>\n",
       "    <tr style=\"text-align: right;\">\n",
       "      <th></th>\n",
       "      <th>Rank</th>\n",
       "      <th>Title</th>\n",
       "      <th>Genre</th>\n",
       "      <th>Description</th>\n",
       "      <th>Director</th>\n",
       "      <th>Actors</th>\n",
       "      <th>Year</th>\n",
       "      <th>Runtime (Minutes)</th>\n",
       "      <th>Rating</th>\n",
       "      <th>Votes</th>\n",
       "      <th>Revenue (Millions)</th>\n",
       "      <th>Metascore</th>\n",
       "    </tr>\n",
       "  </thead>\n",
       "  <tbody>\n",
       "    <tr>\n",
       "      <th>997</th>\n",
       "      <td>998</td>\n",
       "      <td>Step Up 2: The Streets</td>\n",
       "      <td>Drama,Music,Romance</td>\n",
       "      <td>Romantic sparks occur between two dance studen...</td>\n",
       "      <td>Jon M. Chu</td>\n",
       "      <td>Robert Hoffman, Briana Evigan, Cassie Ventura,...</td>\n",
       "      <td>2008</td>\n",
       "      <td>98</td>\n",
       "      <td>6.2</td>\n",
       "      <td>70699</td>\n",
       "      <td>58.01</td>\n",
       "      <td>50.0</td>\n",
       "    </tr>\n",
       "    <tr>\n",
       "      <th>998</th>\n",
       "      <td>999</td>\n",
       "      <td>Search Party</td>\n",
       "      <td>Adventure,Comedy</td>\n",
       "      <td>A pair of friends embark on a mission to reuni...</td>\n",
       "      <td>Scot Armstrong</td>\n",
       "      <td>Adam Pally, T.J. Miller, Thomas Middleditch,Sh...</td>\n",
       "      <td>2014</td>\n",
       "      <td>93</td>\n",
       "      <td>5.6</td>\n",
       "      <td>4881</td>\n",
       "      <td>NaN</td>\n",
       "      <td>22.0</td>\n",
       "    </tr>\n",
       "    <tr>\n",
       "      <th>999</th>\n",
       "      <td>1000</td>\n",
       "      <td>Nine Lives</td>\n",
       "      <td>Comedy,Family,Fantasy</td>\n",
       "      <td>A stuffy businessman finds himself trapped ins...</td>\n",
       "      <td>Barry Sonnenfeld</td>\n",
       "      <td>Kevin Spacey, Jennifer Garner, Robbie Amell,Ch...</td>\n",
       "      <td>2016</td>\n",
       "      <td>87</td>\n",
       "      <td>5.3</td>\n",
       "      <td>12435</td>\n",
       "      <td>19.64</td>\n",
       "      <td>11.0</td>\n",
       "    </tr>\n",
       "  </tbody>\n",
       "</table>\n",
       "</div>"
      ],
      "text/plain": [
       "     Rank                   Title                  Genre  \\\n",
       "997   998  Step Up 2: The Streets    Drama,Music,Romance   \n",
       "998   999            Search Party       Adventure,Comedy   \n",
       "999  1000              Nine Lives  Comedy,Family,Fantasy   \n",
       "\n",
       "                                           Description          Director  \\\n",
       "997  Romantic sparks occur between two dance studen...        Jon M. Chu   \n",
       "998  A pair of friends embark on a mission to reuni...    Scot Armstrong   \n",
       "999  A stuffy businessman finds himself trapped ins...  Barry Sonnenfeld   \n",
       "\n",
       "                                                Actors  Year  \\\n",
       "997  Robert Hoffman, Briana Evigan, Cassie Ventura,...  2008   \n",
       "998  Adam Pally, T.J. Miller, Thomas Middleditch,Sh...  2014   \n",
       "999  Kevin Spacey, Jennifer Garner, Robbie Amell,Ch...  2016   \n",
       "\n",
       "     Runtime (Minutes)  Rating  Votes  Revenue (Millions)  Metascore  \n",
       "997                 98     6.2  70699               58.01       50.0  \n",
       "998                 93     5.6   4881                 NaN       22.0  \n",
       "999                 87     5.3  12435               19.64       11.0  "
      ]
     },
     "execution_count": 25,
     "metadata": {},
     "output_type": "execute_result"
    }
   ],
   "source": [
    "df.tail(3)"
   ]
  },
  {
   "cell_type": "markdown",
   "metadata": {
    "id": "L2R31AedYp9N"
   },
   "source": [
    "**Getting info about your data**"
   ]
  },
  {
   "cell_type": "code",
   "execution_count": 26,
   "metadata": {
    "colab": {
     "base_uri": "https://localhost:8080/"
    },
    "executionInfo": {
     "elapsed": 12,
     "status": "ok",
     "timestamp": 1658769546847,
     "user": {
      "displayName": "Moch. Ari Nasichuddin",
      "userId": "02079544481646304252"
     },
     "user_tz": -420
    },
    "id": "GFHAyYy6Ym6D",
    "outputId": "269073aa-a35a-4433-8e57-1290959d3acc"
   },
   "outputs": [
    {
     "name": "stdout",
     "output_type": "stream",
     "text": [
      "<class 'pandas.core.frame.DataFrame'>\n",
      "RangeIndex: 1000 entries, 0 to 999\n",
      "Data columns (total 12 columns):\n",
      " #   Column              Non-Null Count  Dtype  \n",
      "---  ------              --------------  -----  \n",
      " 0   Rank                1000 non-null   int64  \n",
      " 1   Title               1000 non-null   object \n",
      " 2   Genre               1000 non-null   object \n",
      " 3   Description         1000 non-null   object \n",
      " 4   Director            1000 non-null   object \n",
      " 5   Actors              1000 non-null   object \n",
      " 6   Year                1000 non-null   int64  \n",
      " 7   Runtime (Minutes)   1000 non-null   int64  \n",
      " 8   Rating              1000 non-null   float64\n",
      " 9   Votes               1000 non-null   int64  \n",
      " 10  Revenue (Millions)  872 non-null    float64\n",
      " 11  Metascore           936 non-null    float64\n",
      "dtypes: float64(3), int64(4), object(5)\n",
      "memory usage: 93.9+ KB\n"
     ]
    }
   ],
   "source": [
    "df.info()"
   ]
  },
  {
   "cell_type": "code",
   "execution_count": 27,
   "metadata": {},
   "outputs": [
    {
     "data": {
      "text/html": [
       "<div>\n",
       "<style scoped>\n",
       "    .dataframe tbody tr th:only-of-type {\n",
       "        vertical-align: middle;\n",
       "    }\n",
       "\n",
       "    .dataframe tbody tr th {\n",
       "        vertical-align: top;\n",
       "    }\n",
       "\n",
       "    .dataframe thead th {\n",
       "        text-align: right;\n",
       "    }\n",
       "</style>\n",
       "<table border=\"1\" class=\"dataframe\">\n",
       "  <thead>\n",
       "    <tr style=\"text-align: right;\">\n",
       "      <th></th>\n",
       "      <th>Actors</th>\n",
       "      <th>Rating</th>\n",
       "      <th>Revenue (Millions)</th>\n",
       "    </tr>\n",
       "  </thead>\n",
       "  <tbody>\n",
       "    <tr>\n",
       "      <th>0</th>\n",
       "      <td>Chris Pratt, Vin Diesel, Bradley Cooper, Zoe S...</td>\n",
       "      <td>8.1</td>\n",
       "      <td>333.13</td>\n",
       "    </tr>\n",
       "    <tr>\n",
       "      <th>1</th>\n",
       "      <td>Noomi Rapace, Logan Marshall-Green, Michael Fa...</td>\n",
       "      <td>7.0</td>\n",
       "      <td>126.46</td>\n",
       "    </tr>\n",
       "    <tr>\n",
       "      <th>2</th>\n",
       "      <td>James McAvoy, Anya Taylor-Joy, Haley Lu Richar...</td>\n",
       "      <td>7.3</td>\n",
       "      <td>138.12</td>\n",
       "    </tr>\n",
       "    <tr>\n",
       "      <th>3</th>\n",
       "      <td>Matthew McConaughey,Reese Witherspoon, Seth Ma...</td>\n",
       "      <td>7.2</td>\n",
       "      <td>270.32</td>\n",
       "    </tr>\n",
       "    <tr>\n",
       "      <th>4</th>\n",
       "      <td>Will Smith, Jared Leto, Margot Robbie, Viola D...</td>\n",
       "      <td>6.2</td>\n",
       "      <td>325.02</td>\n",
       "    </tr>\n",
       "    <tr>\n",
       "      <th>...</th>\n",
       "      <td>...</td>\n",
       "      <td>...</td>\n",
       "      <td>...</td>\n",
       "    </tr>\n",
       "    <tr>\n",
       "      <th>995</th>\n",
       "      <td>Chiwetel Ejiofor, Nicole Kidman, Julia Roberts...</td>\n",
       "      <td>6.2</td>\n",
       "      <td>NaN</td>\n",
       "    </tr>\n",
       "    <tr>\n",
       "      <th>996</th>\n",
       "      <td>Lauren German, Heather Matarazzo, Bijou Philli...</td>\n",
       "      <td>5.5</td>\n",
       "      <td>17.54</td>\n",
       "    </tr>\n",
       "    <tr>\n",
       "      <th>997</th>\n",
       "      <td>Robert Hoffman, Briana Evigan, Cassie Ventura,...</td>\n",
       "      <td>6.2</td>\n",
       "      <td>58.01</td>\n",
       "    </tr>\n",
       "    <tr>\n",
       "      <th>998</th>\n",
       "      <td>Adam Pally, T.J. Miller, Thomas Middleditch,Sh...</td>\n",
       "      <td>5.6</td>\n",
       "      <td>NaN</td>\n",
       "    </tr>\n",
       "    <tr>\n",
       "      <th>999</th>\n",
       "      <td>Kevin Spacey, Jennifer Garner, Robbie Amell,Ch...</td>\n",
       "      <td>5.3</td>\n",
       "      <td>19.64</td>\n",
       "    </tr>\n",
       "  </tbody>\n",
       "</table>\n",
       "<p>1000 rows × 3 columns</p>\n",
       "</div>"
      ],
      "text/plain": [
       "                                                Actors  Rating  \\\n",
       "0    Chris Pratt, Vin Diesel, Bradley Cooper, Zoe S...     8.1   \n",
       "1    Noomi Rapace, Logan Marshall-Green, Michael Fa...     7.0   \n",
       "2    James McAvoy, Anya Taylor-Joy, Haley Lu Richar...     7.3   \n",
       "3    Matthew McConaughey,Reese Witherspoon, Seth Ma...     7.2   \n",
       "4    Will Smith, Jared Leto, Margot Robbie, Viola D...     6.2   \n",
       "..                                                 ...     ...   \n",
       "995  Chiwetel Ejiofor, Nicole Kidman, Julia Roberts...     6.2   \n",
       "996  Lauren German, Heather Matarazzo, Bijou Philli...     5.5   \n",
       "997  Robert Hoffman, Briana Evigan, Cassie Ventura,...     6.2   \n",
       "998  Adam Pally, T.J. Miller, Thomas Middleditch,Sh...     5.6   \n",
       "999  Kevin Spacey, Jennifer Garner, Robbie Amell,Ch...     5.3   \n",
       "\n",
       "     Revenue (Millions)  \n",
       "0                333.13  \n",
       "1                126.46  \n",
       "2                138.12  \n",
       "3                270.32  \n",
       "4                325.02  \n",
       "..                  ...  \n",
       "995                 NaN  \n",
       "996               17.54  \n",
       "997               58.01  \n",
       "998                 NaN  \n",
       "999               19.64  \n",
       "\n",
       "[1000 rows x 3 columns]"
      ]
     },
     "execution_count": 27,
     "metadata": {},
     "output_type": "execute_result"
    }
   ],
   "source": [
    "# expected output: melihat data Revenue dan Metascore yang\n",
    "test_df = df[['Actors', 'Rating','Revenue (Millions)']]\n",
    "test_df"
   ]
  },
  {
   "cell_type": "code",
   "execution_count": 28,
   "metadata": {},
   "outputs": [],
   "source": [
    "null_df = test_df[test_df['Revenue (Millions)'].isnull()]"
   ]
  },
  {
   "cell_type": "code",
   "execution_count": 29,
   "metadata": {},
   "outputs": [
    {
     "data": {
      "text/html": [
       "<div>\n",
       "<style scoped>\n",
       "    .dataframe tbody tr th:only-of-type {\n",
       "        vertical-align: middle;\n",
       "    }\n",
       "\n",
       "    .dataframe tbody tr th {\n",
       "        vertical-align: top;\n",
       "    }\n",
       "\n",
       "    .dataframe thead th {\n",
       "        text-align: right;\n",
       "    }\n",
       "</style>\n",
       "<table border=\"1\" class=\"dataframe\">\n",
       "  <thead>\n",
       "    <tr style=\"text-align: right;\">\n",
       "      <th></th>\n",
       "      <th>Actors</th>\n",
       "      <th>Rating</th>\n",
       "      <th>Revenue (Millions)</th>\n",
       "    </tr>\n",
       "  </thead>\n",
       "  <tbody>\n",
       "    <tr>\n",
       "      <th>7</th>\n",
       "      <td>Essie Davis, Andrea Riseborough, Julian Barrat...</td>\n",
       "      <td>6.4</td>\n",
       "      <td>NaN</td>\n",
       "    </tr>\n",
       "    <tr>\n",
       "      <th>22</th>\n",
       "      <td>Emma Booth, Ashleigh Cummings, Stephen Curry,S...</td>\n",
       "      <td>6.7</td>\n",
       "      <td>NaN</td>\n",
       "    </tr>\n",
       "    <tr>\n",
       "      <th>25</th>\n",
       "      <td>Fiona Gordon, Dominique Abel,Emmanuelle Riva, ...</td>\n",
       "      <td>6.8</td>\n",
       "      <td>NaN</td>\n",
       "    </tr>\n",
       "    <tr>\n",
       "      <th>39</th>\n",
       "      <td>John Francis Daley, Austin Pendleton, Colleen ...</td>\n",
       "      <td>7.1</td>\n",
       "      <td>NaN</td>\n",
       "    </tr>\n",
       "    <tr>\n",
       "      <th>42</th>\n",
       "      <td>Brittany Blanton, Ayse Howard, Roman Jossart,N...</td>\n",
       "      <td>2.7</td>\n",
       "      <td>NaN</td>\n",
       "    </tr>\n",
       "    <tr>\n",
       "      <th>47</th>\n",
       "      <td>Hermione Corfield, Addison Timlin, Joely Richa...</td>\n",
       "      <td>5.6</td>\n",
       "      <td>NaN</td>\n",
       "    </tr>\n",
       "    <tr>\n",
       "      <th>49</th>\n",
       "      <td>Charlize Theron, Javier Bardem, Adèle Exarchop...</td>\n",
       "      <td>3.7</td>\n",
       "      <td>NaN</td>\n",
       "    </tr>\n",
       "    <tr>\n",
       "      <th>61</th>\n",
       "      <td>Brian Cox, Emile Hirsch, Ophelia Lovibond, Mic...</td>\n",
       "      <td>6.8</td>\n",
       "      <td>NaN</td>\n",
       "    </tr>\n",
       "    <tr>\n",
       "      <th>70</th>\n",
       "      <td>Oscar Isaac, Charlotte Le Bon, Christian Bale,...</td>\n",
       "      <td>5.9</td>\n",
       "      <td>NaN</td>\n",
       "    </tr>\n",
       "    <tr>\n",
       "      <th>103</th>\n",
       "      <td>Mario Casas, Ana Wagener, José Coronado, Bárba...</td>\n",
       "      <td>7.9</td>\n",
       "      <td>NaN</td>\n",
       "    </tr>\n",
       "    <tr>\n",
       "      <th>108</th>\n",
       "      <td>Eve Lindley, Richard Kind, Mark Consuelos, Kat...</td>\n",
       "      <td>5.8</td>\n",
       "      <td>NaN</td>\n",
       "    </tr>\n",
       "    <tr>\n",
       "      <th>112</th>\n",
       "      <td>Keanu Reeves, Jason Momoa, Jim Carrey, Diego Luna</td>\n",
       "      <td>6.1</td>\n",
       "      <td>NaN</td>\n",
       "    </tr>\n",
       "    <tr>\n",
       "      <th>123</th>\n",
       "      <td>Scott Adkins, Teodora Duhovnikova, Alon Aboutb...</td>\n",
       "      <td>7.4</td>\n",
       "      <td>NaN</td>\n",
       "    </tr>\n",
       "    <tr>\n",
       "      <th>139</th>\n",
       "      <td>Dakota Fanning, Guy Pearce, Kit Harington,Cari...</td>\n",
       "      <td>7.1</td>\n",
       "      <td>NaN</td>\n",
       "    </tr>\n",
       "    <tr>\n",
       "      <th>154</th>\n",
       "      <td>Chris Isaak, Kiefer Sutherland, C.H. Evans, Sa...</td>\n",
       "      <td>8.1</td>\n",
       "      <td>NaN</td>\n",
       "    </tr>\n",
       "    <tr>\n",
       "      <th>160</th>\n",
       "      <td>Armie Hammer, Annabelle Wallis,Tom Cullen, Cli...</td>\n",
       "      <td>6.0</td>\n",
       "      <td>NaN</td>\n",
       "    </tr>\n",
       "    <tr>\n",
       "      <th>172</th>\n",
       "      <td>Graham Skipper, Chase Williamson, Brea Grant,B...</td>\n",
       "      <td>5.2</td>\n",
       "      <td>NaN</td>\n",
       "    </tr>\n",
       "    <tr>\n",
       "      <th>183</th>\n",
       "      <td>Tom Hughes, Charlotte Le Bon, Oona Chaplin, Ba...</td>\n",
       "      <td>5.9</td>\n",
       "      <td>NaN</td>\n",
       "    </tr>\n",
       "    <tr>\n",
       "      <th>185</th>\n",
       "      <td>Aomi Muyock, Karl Glusman, Klara Kristin, Juan...</td>\n",
       "      <td>6.0</td>\n",
       "      <td>NaN</td>\n",
       "    </tr>\n",
       "    <tr>\n",
       "      <th>191</th>\n",
       "      <td>Erika Linder, Natalie Krill, Sebastian Pigott,...</td>\n",
       "      <td>5.6</td>\n",
       "      <td>NaN</td>\n",
       "    </tr>\n",
       "  </tbody>\n",
       "</table>\n",
       "</div>"
      ],
      "text/plain": [
       "                                                Actors  Rating  \\\n",
       "7    Essie Davis, Andrea Riseborough, Julian Barrat...     6.4   \n",
       "22   Emma Booth, Ashleigh Cummings, Stephen Curry,S...     6.7   \n",
       "25   Fiona Gordon, Dominique Abel,Emmanuelle Riva, ...     6.8   \n",
       "39   John Francis Daley, Austin Pendleton, Colleen ...     7.1   \n",
       "42   Brittany Blanton, Ayse Howard, Roman Jossart,N...     2.7   \n",
       "47   Hermione Corfield, Addison Timlin, Joely Richa...     5.6   \n",
       "49   Charlize Theron, Javier Bardem, Adèle Exarchop...     3.7   \n",
       "61   Brian Cox, Emile Hirsch, Ophelia Lovibond, Mic...     6.8   \n",
       "70   Oscar Isaac, Charlotte Le Bon, Christian Bale,...     5.9   \n",
       "103  Mario Casas, Ana Wagener, José Coronado, Bárba...     7.9   \n",
       "108  Eve Lindley, Richard Kind, Mark Consuelos, Kat...     5.8   \n",
       "112  Keanu Reeves, Jason Momoa, Jim Carrey, Diego Luna     6.1   \n",
       "123  Scott Adkins, Teodora Duhovnikova, Alon Aboutb...     7.4   \n",
       "139  Dakota Fanning, Guy Pearce, Kit Harington,Cari...     7.1   \n",
       "154  Chris Isaak, Kiefer Sutherland, C.H. Evans, Sa...     8.1   \n",
       "160  Armie Hammer, Annabelle Wallis,Tom Cullen, Cli...     6.0   \n",
       "172  Graham Skipper, Chase Williamson, Brea Grant,B...     5.2   \n",
       "183  Tom Hughes, Charlotte Le Bon, Oona Chaplin, Ba...     5.9   \n",
       "185  Aomi Muyock, Karl Glusman, Klara Kristin, Juan...     6.0   \n",
       "191  Erika Linder, Natalie Krill, Sebastian Pigott,...     5.6   \n",
       "\n",
       "     Revenue (Millions)  \n",
       "7                   NaN  \n",
       "22                  NaN  \n",
       "25                  NaN  \n",
       "39                  NaN  \n",
       "42                  NaN  \n",
       "47                  NaN  \n",
       "49                  NaN  \n",
       "61                  NaN  \n",
       "70                  NaN  \n",
       "103                 NaN  \n",
       "108                 NaN  \n",
       "112                 NaN  \n",
       "123                 NaN  \n",
       "139                 NaN  \n",
       "154                 NaN  \n",
       "160                 NaN  \n",
       "172                 NaN  \n",
       "183                 NaN  \n",
       "185                 NaN  \n",
       "191                 NaN  "
      ]
     },
     "execution_count": 29,
     "metadata": {},
     "output_type": "execute_result"
    }
   ],
   "source": [
    "null_df.head(20)"
   ]
  },
  {
   "cell_type": "code",
   "execution_count": 30,
   "metadata": {},
   "outputs": [
    {
     "name": "stderr",
     "output_type": "stream",
     "text": [
      "C:\\Users\\dtsre\\AppData\\Local\\Temp\\ipykernel_23340\\1873044671.py:7: SettingWithCopyWarning: \n",
      "A value is trying to be set on a copy of a slice from a DataFrame.\n",
      "Try using .loc[row_indexer,col_indexer] = value instead\n",
      "\n",
      "See the caveats in the documentation: https://pandas.pydata.org/pandas-docs/stable/user_guide/indexing.html#returning-a-view-versus-a-copy\n",
      "  null_df['Revenue (Millions)'] = null_df['Revenue (Millions)'].fillna(df.groupby('Rating')['Revenue (Millions)'].transform('mean'))\n"
     ]
    },
    {
     "data": {
      "text/html": [
       "<div>\n",
       "<style scoped>\n",
       "    .dataframe tbody tr th:only-of-type {\n",
       "        vertical-align: middle;\n",
       "    }\n",
       "\n",
       "    .dataframe tbody tr th {\n",
       "        vertical-align: top;\n",
       "    }\n",
       "\n",
       "    .dataframe thead th {\n",
       "        text-align: right;\n",
       "    }\n",
       "</style>\n",
       "<table border=\"1\" class=\"dataframe\">\n",
       "  <thead>\n",
       "    <tr style=\"text-align: right;\">\n",
       "      <th></th>\n",
       "      <th>Actors</th>\n",
       "      <th>Rating</th>\n",
       "      <th>Revenue (Millions)</th>\n",
       "    </tr>\n",
       "  </thead>\n",
       "  <tbody>\n",
       "    <tr>\n",
       "      <th>7</th>\n",
       "      <td>Essie Davis, Andrea Riseborough, Julian Barrat...</td>\n",
       "      <td>6.4</td>\n",
       "      <td>74.114000</td>\n",
       "    </tr>\n",
       "    <tr>\n",
       "      <th>22</th>\n",
       "      <td>Emma Booth, Ashleigh Cummings, Stephen Curry,S...</td>\n",
       "      <td>6.7</td>\n",
       "      <td>87.636047</td>\n",
       "    </tr>\n",
       "    <tr>\n",
       "      <th>25</th>\n",
       "      <td>Fiona Gordon, Dominique Abel,Emmanuelle Riva, ...</td>\n",
       "      <td>6.8</td>\n",
       "      <td>57.301212</td>\n",
       "    </tr>\n",
       "    <tr>\n",
       "      <th>39</th>\n",
       "      <td>John Francis Daley, Austin Pendleton, Colleen ...</td>\n",
       "      <td>7.1</td>\n",
       "      <td>73.456739</td>\n",
       "    </tr>\n",
       "    <tr>\n",
       "      <th>42</th>\n",
       "      <td>Brittany Blanton, Ayse Howard, Roman Jossart,N...</td>\n",
       "      <td>2.7</td>\n",
       "      <td>9.350000</td>\n",
       "    </tr>\n",
       "    <tr>\n",
       "      <th>...</th>\n",
       "      <td>...</td>\n",
       "      <td>...</td>\n",
       "      <td>...</td>\n",
       "    </tr>\n",
       "    <tr>\n",
       "      <th>977</th>\n",
       "      <td>Jason Biggs, Janet Montgomery,Ashley Tisdale, ...</td>\n",
       "      <td>5.0</td>\n",
       "      <td>64.510000</td>\n",
       "    </tr>\n",
       "    <tr>\n",
       "      <th>978</th>\n",
       "      <td>Nathalie Baye, Vincent Cassel, Marion Cotillar...</td>\n",
       "      <td>7.0</td>\n",
       "      <td>93.951860</td>\n",
       "    </tr>\n",
       "    <tr>\n",
       "      <th>988</th>\n",
       "      <td>Morjana Alaoui, Mylène Jampanoï, Catherine Bég...</td>\n",
       "      <td>7.1</td>\n",
       "      <td>73.456739</td>\n",
       "    </tr>\n",
       "    <tr>\n",
       "      <th>995</th>\n",
       "      <td>Chiwetel Ejiofor, Nicole Kidman, Julia Roberts...</td>\n",
       "      <td>6.2</td>\n",
       "      <td>79.861176</td>\n",
       "    </tr>\n",
       "    <tr>\n",
       "      <th>998</th>\n",
       "      <td>Adam Pally, T.J. Miller, Thomas Middleditch,Sh...</td>\n",
       "      <td>5.6</td>\n",
       "      <td>36.773846</td>\n",
       "    </tr>\n",
       "  </tbody>\n",
       "</table>\n",
       "<p>128 rows × 3 columns</p>\n",
       "</div>"
      ],
      "text/plain": [
       "                                                Actors  Rating  \\\n",
       "7    Essie Davis, Andrea Riseborough, Julian Barrat...     6.4   \n",
       "22   Emma Booth, Ashleigh Cummings, Stephen Curry,S...     6.7   \n",
       "25   Fiona Gordon, Dominique Abel,Emmanuelle Riva, ...     6.8   \n",
       "39   John Francis Daley, Austin Pendleton, Colleen ...     7.1   \n",
       "42   Brittany Blanton, Ayse Howard, Roman Jossart,N...     2.7   \n",
       "..                                                 ...     ...   \n",
       "977  Jason Biggs, Janet Montgomery,Ashley Tisdale, ...     5.0   \n",
       "978  Nathalie Baye, Vincent Cassel, Marion Cotillar...     7.0   \n",
       "988  Morjana Alaoui, Mylène Jampanoï, Catherine Bég...     7.1   \n",
       "995  Chiwetel Ejiofor, Nicole Kidman, Julia Roberts...     6.2   \n",
       "998  Adam Pally, T.J. Miller, Thomas Middleditch,Sh...     5.6   \n",
       "\n",
       "     Revenue (Millions)  \n",
       "7             74.114000  \n",
       "22            87.636047  \n",
       "25            57.301212  \n",
       "39            73.456739  \n",
       "42             9.350000  \n",
       "..                  ...  \n",
       "977           64.510000  \n",
       "978           93.951860  \n",
       "988           73.456739  \n",
       "995           79.861176  \n",
       "998           36.773846  \n",
       "\n",
       "[128 rows x 3 columns]"
      ]
     },
     "execution_count": 30,
     "metadata": {},
     "output_type": "execute_result"
    }
   ],
   "source": [
    "# bowo: expected output ingin fill nilai yang NaN\n",
    "# contoh kasus pada fitur Actors, Rating, dan Revenue\n",
    "\n",
    "# Mengisi nilai NaN dalam kolom 'Revenue (Millions)' \n",
    "#dengan rata-rata dari film-film yang memiliki nilai 'Rating' yang sama\n",
    "# Mengisi nilai NaN dengan rata-rata sesuai dengan nilai Rating yang sama\n",
    "null_df['Revenue (Millions)'] = null_df['Revenue (Millions)'].fillna(df.groupby('Rating')['Revenue (Millions)'].transform('mean'))\n",
    "null_df"
   ]
  },
  {
   "cell_type": "code",
   "execution_count": 31,
   "metadata": {},
   "outputs": [
    {
     "data": {
      "text/html": [
       "<div>\n",
       "<style scoped>\n",
       "    .dataframe tbody tr th:only-of-type {\n",
       "        vertical-align: middle;\n",
       "    }\n",
       "\n",
       "    .dataframe tbody tr th {\n",
       "        vertical-align: top;\n",
       "    }\n",
       "\n",
       "    .dataframe thead th {\n",
       "        text-align: right;\n",
       "    }\n",
       "</style>\n",
       "<table border=\"1\" class=\"dataframe\">\n",
       "  <thead>\n",
       "    <tr style=\"text-align: right;\">\n",
       "      <th></th>\n",
       "      <th>Actors</th>\n",
       "      <th>Rating</th>\n",
       "      <th>Revenue (Millions)</th>\n",
       "    </tr>\n",
       "  </thead>\n",
       "  <tbody>\n",
       "    <tr>\n",
       "      <th>7</th>\n",
       "      <td>Essie Davis, Andrea Riseborough, Julian Barrat...</td>\n",
       "      <td>6.4</td>\n",
       "      <td>74.114000</td>\n",
       "    </tr>\n",
       "    <tr>\n",
       "      <th>22</th>\n",
       "      <td>Emma Booth, Ashleigh Cummings, Stephen Curry,S...</td>\n",
       "      <td>6.7</td>\n",
       "      <td>87.636047</td>\n",
       "    </tr>\n",
       "    <tr>\n",
       "      <th>25</th>\n",
       "      <td>Fiona Gordon, Dominique Abel,Emmanuelle Riva, ...</td>\n",
       "      <td>6.8</td>\n",
       "      <td>57.301212</td>\n",
       "    </tr>\n",
       "    <tr>\n",
       "      <th>39</th>\n",
       "      <td>John Francis Daley, Austin Pendleton, Colleen ...</td>\n",
       "      <td>7.1</td>\n",
       "      <td>73.456739</td>\n",
       "    </tr>\n",
       "    <tr>\n",
       "      <th>42</th>\n",
       "      <td>Brittany Blanton, Ayse Howard, Roman Jossart,N...</td>\n",
       "      <td>2.7</td>\n",
       "      <td>9.350000</td>\n",
       "    </tr>\n",
       "    <tr>\n",
       "      <th>47</th>\n",
       "      <td>Hermione Corfield, Addison Timlin, Joely Richa...</td>\n",
       "      <td>5.6</td>\n",
       "      <td>36.773846</td>\n",
       "    </tr>\n",
       "    <tr>\n",
       "      <th>49</th>\n",
       "      <td>Charlize Theron, Javier Bardem, Adèle Exarchop...</td>\n",
       "      <td>3.7</td>\n",
       "      <td>NaN</td>\n",
       "    </tr>\n",
       "    <tr>\n",
       "      <th>61</th>\n",
       "      <td>Brian Cox, Emile Hirsch, Ophelia Lovibond, Mic...</td>\n",
       "      <td>6.8</td>\n",
       "      <td>57.301212</td>\n",
       "    </tr>\n",
       "    <tr>\n",
       "      <th>70</th>\n",
       "      <td>Oscar Isaac, Charlotte Le Bon, Christian Bale,...</td>\n",
       "      <td>5.9</td>\n",
       "      <td>53.689333</td>\n",
       "    </tr>\n",
       "    <tr>\n",
       "      <th>103</th>\n",
       "      <td>Mario Casas, Ana Wagener, José Coronado, Bárba...</td>\n",
       "      <td>7.9</td>\n",
       "      <td>131.075500</td>\n",
       "    </tr>\n",
       "    <tr>\n",
       "      <th>108</th>\n",
       "      <td>Eve Lindley, Richard Kind, Mark Consuelos, Kat...</td>\n",
       "      <td>5.8</td>\n",
       "      <td>57.868095</td>\n",
       "    </tr>\n",
       "    <tr>\n",
       "      <th>112</th>\n",
       "      <td>Keanu Reeves, Jason Momoa, Jim Carrey, Diego Luna</td>\n",
       "      <td>6.1</td>\n",
       "      <td>61.249130</td>\n",
       "    </tr>\n",
       "    <tr>\n",
       "      <th>123</th>\n",
       "      <td>Scott Adkins, Teodora Duhovnikova, Alon Aboutb...</td>\n",
       "      <td>7.4</td>\n",
       "      <td>106.974333</td>\n",
       "    </tr>\n",
       "    <tr>\n",
       "      <th>139</th>\n",
       "      <td>Dakota Fanning, Guy Pearce, Kit Harington,Cari...</td>\n",
       "      <td>7.1</td>\n",
       "      <td>73.456739</td>\n",
       "    </tr>\n",
       "    <tr>\n",
       "      <th>154</th>\n",
       "      <td>Chris Isaak, Kiefer Sutherland, C.H. Evans, Sa...</td>\n",
       "      <td>8.1</td>\n",
       "      <td>175.485833</td>\n",
       "    </tr>\n",
       "    <tr>\n",
       "      <th>160</th>\n",
       "      <td>Armie Hammer, Annabelle Wallis,Tom Cullen, Cli...</td>\n",
       "      <td>6.0</td>\n",
       "      <td>78.730476</td>\n",
       "    </tr>\n",
       "    <tr>\n",
       "      <th>172</th>\n",
       "      <td>Graham Skipper, Chase Williamson, Brea Grant,B...</td>\n",
       "      <td>5.2</td>\n",
       "      <td>72.254286</td>\n",
       "    </tr>\n",
       "    <tr>\n",
       "      <th>183</th>\n",
       "      <td>Tom Hughes, Charlotte Le Bon, Oona Chaplin, Ba...</td>\n",
       "      <td>5.9</td>\n",
       "      <td>53.689333</td>\n",
       "    </tr>\n",
       "    <tr>\n",
       "      <th>185</th>\n",
       "      <td>Aomi Muyock, Karl Glusman, Klara Kristin, Juan...</td>\n",
       "      <td>6.0</td>\n",
       "      <td>78.730476</td>\n",
       "    </tr>\n",
       "    <tr>\n",
       "      <th>191</th>\n",
       "      <td>Erika Linder, Natalie Krill, Sebastian Pigott,...</td>\n",
       "      <td>5.6</td>\n",
       "      <td>36.773846</td>\n",
       "    </tr>\n",
       "  </tbody>\n",
       "</table>\n",
       "</div>"
      ],
      "text/plain": [
       "                                                Actors  Rating  \\\n",
       "7    Essie Davis, Andrea Riseborough, Julian Barrat...     6.4   \n",
       "22   Emma Booth, Ashleigh Cummings, Stephen Curry,S...     6.7   \n",
       "25   Fiona Gordon, Dominique Abel,Emmanuelle Riva, ...     6.8   \n",
       "39   John Francis Daley, Austin Pendleton, Colleen ...     7.1   \n",
       "42   Brittany Blanton, Ayse Howard, Roman Jossart,N...     2.7   \n",
       "47   Hermione Corfield, Addison Timlin, Joely Richa...     5.6   \n",
       "49   Charlize Theron, Javier Bardem, Adèle Exarchop...     3.7   \n",
       "61   Brian Cox, Emile Hirsch, Ophelia Lovibond, Mic...     6.8   \n",
       "70   Oscar Isaac, Charlotte Le Bon, Christian Bale,...     5.9   \n",
       "103  Mario Casas, Ana Wagener, José Coronado, Bárba...     7.9   \n",
       "108  Eve Lindley, Richard Kind, Mark Consuelos, Kat...     5.8   \n",
       "112  Keanu Reeves, Jason Momoa, Jim Carrey, Diego Luna     6.1   \n",
       "123  Scott Adkins, Teodora Duhovnikova, Alon Aboutb...     7.4   \n",
       "139  Dakota Fanning, Guy Pearce, Kit Harington,Cari...     7.1   \n",
       "154  Chris Isaak, Kiefer Sutherland, C.H. Evans, Sa...     8.1   \n",
       "160  Armie Hammer, Annabelle Wallis,Tom Cullen, Cli...     6.0   \n",
       "172  Graham Skipper, Chase Williamson, Brea Grant,B...     5.2   \n",
       "183  Tom Hughes, Charlotte Le Bon, Oona Chaplin, Ba...     5.9   \n",
       "185  Aomi Muyock, Karl Glusman, Klara Kristin, Juan...     6.0   \n",
       "191  Erika Linder, Natalie Krill, Sebastian Pigott,...     5.6   \n",
       "\n",
       "     Revenue (Millions)  \n",
       "7             74.114000  \n",
       "22            87.636047  \n",
       "25            57.301212  \n",
       "39            73.456739  \n",
       "42             9.350000  \n",
       "47            36.773846  \n",
       "49                  NaN  \n",
       "61            57.301212  \n",
       "70            53.689333  \n",
       "103          131.075500  \n",
       "108           57.868095  \n",
       "112           61.249130  \n",
       "123          106.974333  \n",
       "139           73.456739  \n",
       "154          175.485833  \n",
       "160           78.730476  \n",
       "172           72.254286  \n",
       "183           53.689333  \n",
       "185           78.730476  \n",
       "191           36.773846  "
      ]
     },
     "execution_count": 31,
     "metadata": {},
     "output_type": "execute_result"
    }
   ],
   "source": [
    "null_df.head(20)"
   ]
  },
  {
   "cell_type": "code",
   "execution_count": 32,
   "metadata": {},
   "outputs": [
    {
     "data": {
      "text/plain": [
       "Actors                0\n",
       "Rating                0\n",
       "Revenue (Millions)    8\n",
       "dtype: int64"
      ]
     },
     "execution_count": 32,
     "metadata": {},
     "output_type": "execute_result"
    }
   ],
   "source": [
    "# regresi\n",
    "# uji statistik\n",
    "null_df.isna().sum()"
   ]
  },
  {
   "cell_type": "code",
   "execution_count": 33,
   "metadata": {},
   "outputs": [],
   "source": [
    "# tipe data --> ghiyats\n",
    "# data bukan null --> bowo"
   ]
  },
  {
   "cell_type": "code",
   "execution_count": 34,
   "metadata": {
    "colab": {
     "base_uri": "https://localhost:8080/"
    },
    "executionInfo": {
     "elapsed": 8,
     "status": "ok",
     "timestamp": 1658769546848,
     "user": {
      "displayName": "Moch. Ari Nasichuddin",
      "userId": "02079544481646304252"
     },
     "user_tz": -420
    },
    "id": "D9zQK1nFYtYL",
    "outputId": "677d2bcc-2c08-448b-95ff-ca8db55549b1"
   },
   "outputs": [
    {
     "data": {
      "text/plain": [
       "(1000, 12)"
      ]
     },
     "execution_count": 34,
     "metadata": {},
     "output_type": "execute_result"
    }
   ],
   "source": [
    "df.shape"
   ]
  },
  {
   "cell_type": "markdown",
   "metadata": {
    "id": "wK1ayWlRY536"
   },
   "source": [
    "**Handling duplicates**"
   ]
  },
  {
   "cell_type": "code",
   "execution_count": 35,
   "metadata": {
    "colab": {
     "base_uri": "https://localhost:8080/"
    },
    "executionInfo": {
     "elapsed": 371,
     "status": "ok",
     "timestamp": 1658769634110,
     "user": {
      "displayName": "Moch. Ari Nasichuddin",
      "userId": "02079544481646304252"
     },
     "user_tz": -420
    },
    "id": "UPMXCx9uX8XX",
    "outputId": "eb11b346-54c9-44b2-c546-e1ad3b21eeaa"
   },
   "outputs": [
    {
     "data": {
      "text/plain": [
       "(1000, 12)"
      ]
     },
     "execution_count": 35,
     "metadata": {},
     "output_type": "execute_result"
    }
   ],
   "source": [
    "# data belum diduplikasi\n",
    "df.shape"
   ]
  },
  {
   "cell_type": "code",
   "execution_count": 36,
   "metadata": {
    "colab": {
     "base_uri": "https://localhost:8080/"
    },
    "executionInfo": {
     "elapsed": 629,
     "status": "ok",
     "timestamp": 1658769687550,
     "user": {
      "displayName": "Moch. Ari Nasichuddin",
      "userId": "02079544481646304252"
     },
     "user_tz": -420
    },
    "id": "0nHhmjb5Y3lF",
    "outputId": "14fdeaaa-4e5e-4a3f-e022-22cb0aaa001a"
   },
   "outputs": [],
   "source": [
    "## data setelah diduplikasi --> Deprecated, ganti dengan concat\n",
    "# temp_df = df.append(df)\n",
    "# temp_df.shape"
   ]
  },
  {
   "cell_type": "code",
   "execution_count": 37,
   "metadata": {},
   "outputs": [
    {
     "data": {
      "text/html": [
       "<div>\n",
       "<style scoped>\n",
       "    .dataframe tbody tr th:only-of-type {\n",
       "        vertical-align: middle;\n",
       "    }\n",
       "\n",
       "    .dataframe tbody tr th {\n",
       "        vertical-align: top;\n",
       "    }\n",
       "\n",
       "    .dataframe thead th {\n",
       "        text-align: right;\n",
       "    }\n",
       "</style>\n",
       "<table border=\"1\" class=\"dataframe\">\n",
       "  <thead>\n",
       "    <tr style=\"text-align: right;\">\n",
       "      <th></th>\n",
       "      <th>A</th>\n",
       "      <th>B</th>\n",
       "    </tr>\n",
       "  </thead>\n",
       "  <tbody>\n",
       "    <tr>\n",
       "      <th>x</th>\n",
       "      <td>1</td>\n",
       "      <td>2</td>\n",
       "    </tr>\n",
       "    <tr>\n",
       "      <th>y</th>\n",
       "      <td>3</td>\n",
       "      <td>4</td>\n",
       "    </tr>\n",
       "  </tbody>\n",
       "</table>\n",
       "</div>"
      ],
      "text/plain": [
       "   A  B\n",
       "x  1  2\n",
       "y  3  4"
      ]
     },
     "execution_count": 37,
     "metadata": {},
     "output_type": "execute_result"
    }
   ],
   "source": [
    "df = pd.DataFrame([[1, 2], [3, 4]], columns=list('AB'), index=['x', 'y'])\n",
    "df"
   ]
  },
  {
   "cell_type": "code",
   "execution_count": 38,
   "metadata": {},
   "outputs": [
    {
     "ename": "AttributeError",
     "evalue": "'DataFrame' object has no attribute 'append'",
     "output_type": "error",
     "traceback": [
      "\u001b[1;31m---------------------------------------------------------------------------\u001b[0m",
      "\u001b[1;31mAttributeError\u001b[0m                            Traceback (most recent call last)",
      "\u001b[1;32m~\\AppData\\Local\\Temp\\ipykernel_23340\\3286368555.py\u001b[0m in \u001b[0;36m?\u001b[1;34m()\u001b[0m\n\u001b[0;32m      1\u001b[0m \u001b[0mdf2\u001b[0m \u001b[1;33m=\u001b[0m \u001b[0mpd\u001b[0m\u001b[1;33m.\u001b[0m\u001b[0mDataFrame\u001b[0m\u001b[1;33m(\u001b[0m\u001b[1;33m[\u001b[0m\u001b[1;33m[\u001b[0m\u001b[1;36m5\u001b[0m\u001b[1;33m,\u001b[0m \u001b[1;36m6\u001b[0m\u001b[1;33m]\u001b[0m\u001b[1;33m,\u001b[0m \u001b[1;33m[\u001b[0m\u001b[1;36m7\u001b[0m\u001b[1;33m,\u001b[0m \u001b[1;36m8\u001b[0m\u001b[1;33m]\u001b[0m\u001b[1;33m]\u001b[0m\u001b[1;33m,\u001b[0m \u001b[0mcolumns\u001b[0m\u001b[1;33m=\u001b[0m\u001b[0mlist\u001b[0m\u001b[1;33m(\u001b[0m\u001b[1;34m'AB'\u001b[0m\u001b[1;33m)\u001b[0m\u001b[1;33m,\u001b[0m \u001b[0mindex\u001b[0m\u001b[1;33m=\u001b[0m\u001b[1;33m[\u001b[0m\u001b[1;34m'x'\u001b[0m\u001b[1;33m,\u001b[0m \u001b[1;34m'y'\u001b[0m\u001b[1;33m]\u001b[0m\u001b[1;33m)\u001b[0m\u001b[1;33m\u001b[0m\u001b[1;33m\u001b[0m\u001b[0m\n\u001b[1;32m----> 2\u001b[1;33m \u001b[0mdf\u001b[0m\u001b[1;33m.\u001b[0m\u001b[0mappend\u001b[0m\u001b[1;33m(\u001b[0m\u001b[0mdf2\u001b[0m\u001b[1;33m)\u001b[0m\u001b[1;33m\u001b[0m\u001b[1;33m\u001b[0m\u001b[0m\n\u001b[0m",
      "\u001b[1;32mD:\\23001042-15-val-project-gold\\env\\Lib\\site-packages\\pandas\\core\\generic.py\u001b[0m in \u001b[0;36m?\u001b[1;34m(self, name)\u001b[0m\n\u001b[0;32m   6200\u001b[0m             \u001b[1;32mand\u001b[0m \u001b[0mname\u001b[0m \u001b[1;32mnot\u001b[0m \u001b[1;32min\u001b[0m \u001b[0mself\u001b[0m\u001b[1;33m.\u001b[0m\u001b[0m_accessors\u001b[0m\u001b[1;33m\u001b[0m\u001b[1;33m\u001b[0m\u001b[0m\n\u001b[0;32m   6201\u001b[0m             \u001b[1;32mand\u001b[0m \u001b[0mself\u001b[0m\u001b[1;33m.\u001b[0m\u001b[0m_info_axis\u001b[0m\u001b[1;33m.\u001b[0m\u001b[0m_can_hold_identifiers_and_holds_name\u001b[0m\u001b[1;33m(\u001b[0m\u001b[0mname\u001b[0m\u001b[1;33m)\u001b[0m\u001b[1;33m\u001b[0m\u001b[1;33m\u001b[0m\u001b[0m\n\u001b[0;32m   6202\u001b[0m         ):\n\u001b[0;32m   6203\u001b[0m             \u001b[1;32mreturn\u001b[0m \u001b[0mself\u001b[0m\u001b[1;33m[\u001b[0m\u001b[0mname\u001b[0m\u001b[1;33m]\u001b[0m\u001b[1;33m\u001b[0m\u001b[1;33m\u001b[0m\u001b[0m\n\u001b[1;32m-> 6204\u001b[1;33m         \u001b[1;32mreturn\u001b[0m \u001b[0mobject\u001b[0m\u001b[1;33m.\u001b[0m\u001b[0m__getattribute__\u001b[0m\u001b[1;33m(\u001b[0m\u001b[0mself\u001b[0m\u001b[1;33m,\u001b[0m \u001b[0mname\u001b[0m\u001b[1;33m)\u001b[0m\u001b[1;33m\u001b[0m\u001b[1;33m\u001b[0m\u001b[0m\n\u001b[0m",
      "\u001b[1;31mAttributeError\u001b[0m: 'DataFrame' object has no attribute 'append'"
     ]
    }
   ],
   "source": [
    "df2 = pd.DataFrame([[5, 6], [7, 8]], columns=list('AB'), index=['x', 'y'])\n",
    "df.append(df2)"
   ]
  },
  {
   "cell_type": "code",
   "execution_count": null,
   "metadata": {},
   "outputs": [],
   "source": [
    "# mba claire\n",
    "temp_df = pd.concat([df, df], ignore_index=True)\n",
    "temp_df.shape"
   ]
  },
  {
   "cell_type": "code",
   "execution_count": null,
   "metadata": {},
   "outputs": [],
   "source": [
    "# parameter keep [first, last]\n",
    "# first: menaruh duplikasi nya dibawah,\n",
    "# last: menaruh duplikasi nya diatas.\n",
    "# subset: label column, optional\n",
    "\n",
    "# cara cek ada duplicate\n",
    "temp_df.duplicated(subset = None, keep = 'first')"
   ]
  },
  {
   "cell_type": "code",
   "execution_count": null,
   "metadata": {
    "colab": {
     "base_uri": "https://localhost:8080/"
    },
    "executionInfo": {
     "elapsed": 334,
     "status": "ok",
     "timestamp": 1658769704483,
     "user": {
      "displayName": "Moch. Ari Nasichuddin",
      "userId": "02079544481646304252"
     },
     "user_tz": -420
    },
    "id": "IAR280S-Y993",
    "outputId": "0d2689b4-08b1-447f-8e96-6a32484f7e4b"
   },
   "outputs": [],
   "source": [
    "# proses menghilangkan duplikasi\n",
    "temp_df = temp_df.drop_duplicates()\n",
    "temp_df.shape"
   ]
  },
  {
   "cell_type": "code",
   "execution_count": null,
   "metadata": {},
   "outputs": [],
   "source": [
    "# cek duplikasi\n",
    "temp_df.duplicated(subset = None, keep = 'first')"
   ]
  },
  {
   "cell_type": "code",
   "execution_count": null,
   "metadata": {
    "id": "Um3GTVxez2SQ"
   },
   "outputs": [],
   "source": []
  },
  {
   "cell_type": "markdown",
   "metadata": {
    "id": "fUSZsqSgZGnT"
   },
   "source": [
    "**Column cleanup**"
   ]
  },
  {
   "cell_type": "code",
   "execution_count": null,
   "metadata": {},
   "outputs": [],
   "source": [
    "movies_df = df"
   ]
  },
  {
   "cell_type": "code",
   "execution_count": null,
   "metadata": {
    "id": "o_LeWoVNZBLJ"
   },
   "outputs": [],
   "source": [
    "movies_df.columns"
   ]
  },
  {
   "cell_type": "code",
   "execution_count": null,
   "metadata": {
    "id": "PyjL20PlZLWs"
   },
   "outputs": [],
   "source": [
    "movies_df.rename(columns={\n",
    "        'Runtime (Minutes)': 'Runtime', \n",
    "        'Revenue (Millions)': 'Revenue_millions'\n",
    "    }, inplace=True)"
   ]
  },
  {
   "cell_type": "code",
   "execution_count": null,
   "metadata": {
    "id": "Nk0MvxSn1ZxZ"
   },
   "outputs": [],
   "source": [
    "movies_df.columns"
   ]
  },
  {
   "cell_type": "markdown",
   "metadata": {
    "id": "gkNmQx4CZWwr"
   },
   "source": [
    "**How to work with missing values**"
   ]
  },
  {
   "cell_type": "code",
   "execution_count": null,
   "metadata": {
    "colab": {
     "base_uri": "https://localhost:8080/",
     "height": 505
    },
    "executionInfo": {
     "elapsed": 413,
     "status": "ok",
     "timestamp": 1658769848336,
     "user": {
      "displayName": "Moch. Ari Nasichuddin",
      "userId": "02079544481646304252"
     },
     "user_tz": -420
    },
    "id": "yYUbY06AZRn6",
    "outputId": "d9a349c1-e3fb-44a3-a682-6f7220dd0ce5"
   },
   "outputs": [],
   "source": [
    "df.isnull()"
   ]
  },
  {
   "cell_type": "code",
   "execution_count": null,
   "metadata": {},
   "outputs": [],
   "source": [
    "movies_df.isnull().sum()"
   ]
  },
  {
   "cell_type": "code",
   "execution_count": null,
   "metadata": {
    "colab": {
     "base_uri": "https://localhost:8080/"
    },
    "executionInfo": {
     "elapsed": 794,
     "status": "ok",
     "timestamp": 1658769863649,
     "user": {
      "displayName": "Moch. Ari Nasichuddin",
      "userId": "02079544481646304252"
     },
     "user_tz": -420
    },
    "id": "B6on1lCoZaDX",
    "outputId": "d149176e-e7ad-4898-8fbd-6ac9eb386030"
   },
   "outputs": [],
   "source": [
    "df.isnull().sum()"
   ]
  },
  {
   "cell_type": "code",
   "execution_count": null,
   "metadata": {},
   "outputs": [],
   "source": [
    "# claire: lihat data yang null"
   ]
  },
  {
   "cell_type": "code",
   "execution_count": null,
   "metadata": {},
   "outputs": [],
   "source": [
    "null_rows = df[df[['Revenue_millions', 'Metascore']].isnull()]\n",
    "null_rows"
   ]
  },
  {
   "cell_type": "code",
   "execution_count": null,
   "metadata": {},
   "outputs": [],
   "source": [
    "df_check_null = df[df['Revenue_millions'].isna() & df['Metascore'].isna()]\n",
    "df_check_null"
   ]
  },
  {
   "cell_type": "code",
   "execution_count": null,
   "metadata": {
    "executionInfo": {
     "elapsed": 507,
     "status": "ok",
     "timestamp": 1658769890075,
     "user": {
      "displayName": "Moch. Ari Nasichuddin",
      "userId": "02079544481646304252"
     },
     "user_tz": -420
    },
    "id": "pCvppUYQ5c3P"
   },
   "outputs": [],
   "source": [
    "df_deleted_null = df.dropna()"
   ]
  },
  {
   "cell_type": "code",
   "execution_count": null,
   "metadata": {
    "colab": {
     "base_uri": "https://localhost:8080/"
    },
    "executionInfo": {
     "elapsed": 3,
     "status": "ok",
     "timestamp": 1658769891206,
     "user": {
      "displayName": "Moch. Ari Nasichuddin",
      "userId": "02079544481646304252"
     },
     "user_tz": -420
    },
    "id": "lNKuqfQJ5qSY",
    "outputId": "3ecb1183-8ac1-42be-b586-7757a1f036c5"
   },
   "outputs": [],
   "source": [
    "df_deleted_null.isnull().sum()"
   ]
  },
  {
   "cell_type": "markdown",
   "metadata": {
    "id": "tHltgXeEazqO"
   },
   "source": [
    "# DataFrame slicing, selecting, extracting"
   ]
  },
  {
   "cell_type": "code",
   "execution_count": null,
   "metadata": {
    "id": "jMiBNNKmZfYu"
   },
   "outputs": [],
   "source": [
    "subset = df[['Genre', 'Rating']]"
   ]
  },
  {
   "cell_type": "code",
   "execution_count": null,
   "metadata": {
    "colab": {
     "base_uri": "https://localhost:8080/",
     "height": 206
    },
    "executionInfo": {
     "elapsed": 39,
     "status": "ok",
     "timestamp": 1658758684649,
     "user": {
      "displayName": "Moch. Ari Nasichuddin",
      "userId": "02079544481646304252"
     },
     "user_tz": -420
    },
    "id": "yqjiBvw_8VVY",
    "outputId": "75c8c560-4693-4df1-dbd7-00a8b4c11da3"
   },
   "outputs": [],
   "source": [
    "subset.head()"
   ]
  },
  {
   "cell_type": "code",
   "execution_count": null,
   "metadata": {
    "colab": {
     "base_uri": "https://localhost:8080/",
     "height": 346
    },
    "executionInfo": {
     "elapsed": 355,
     "status": "error",
     "timestamp": 1658758800966,
     "user": {
      "displayName": "Moch. Ari Nasichuddin",
      "userId": "02079544481646304252"
     },
     "user_tz": -420
    },
    "id": "ZmX_MwGl8llp",
    "outputId": "76166b76-e266-44c2-90c1-e0aa4ab3bd61"
   },
   "outputs": [],
   "source": [
    "# .loc dipakai untuk mengakses baris berdasarkan label indeks\n",
    "# .iloc digunakan untuk mengakses baris berdasarkan posisi indeks\n",
    "\n",
    "prom = df.loc[\"Song\"]\n",
    "\n",
    "prom"
   ]
  },
  {
   "cell_type": "code",
   "execution_count": null,
   "metadata": {},
   "outputs": [],
   "source": [
    "df.head(2)"
   ]
  },
  {
   "cell_type": "code",
   "execution_count": null,
   "metadata": {
    "colab": {
     "base_uri": "https://localhost:8080/"
    },
    "executionInfo": {
     "elapsed": 475,
     "status": "ok",
     "timestamp": 1658758807423,
     "user": {
      "displayName": "Moch. Ari Nasichuddin",
      "userId": "02079544481646304252"
     },
     "user_tz": -420
    },
    "id": "1gz4JT_IbgIL",
    "outputId": "08f49bd0-5322-4531-c2a3-c09c00cff234"
   },
   "outputs": [],
   "source": [
    "prom = df.iloc[1]\n",
    "\n",
    "prom"
   ]
  },
  {
   "cell_type": "code",
   "execution_count": null,
   "metadata": {
    "colab": {
     "base_uri": "https://localhost:8080/",
     "height": 206
    },
    "executionInfo": {
     "elapsed": 9,
     "status": "ok",
     "timestamp": 1658759186422,
     "user": {
      "displayName": "Moch. Ari Nasichuddin",
      "userId": "02079544481646304252"
     },
     "user_tz": -420
    },
    "id": "gmbMy4uHbp7d",
    "outputId": "4985ef38-f4ac-4755-8028-cbf91aea99b6"
   },
   "outputs": [],
   "source": [
    "df_filter = df[df['Director'] == \"Ridley Scott\"]\n",
    "df_filter = df_filter[['Title', 'Director']]\n",
    "df_filter.head()"
   ]
  },
  {
   "cell_type": "markdown",
   "metadata": {},
   "source": [
    "loc (label-based location)\n",
    "\n",
    "iloc (integer-based location)"
   ]
  },
  {
   "cell_type": "markdown",
   "metadata": {
    "id": "Eh0Rhnt090o9"
   },
   "source": [
    "condition"
   ]
  },
  {
   "cell_type": "code",
   "execution_count": null,
   "metadata": {
    "colab": {
     "base_uri": "https://localhost:8080/",
     "height": 206
    },
    "executionInfo": {
     "elapsed": 714,
     "status": "ok",
     "timestamp": 1658759400410,
     "user": {
      "displayName": "Moch. Ari Nasichuddin",
      "userId": "02079544481646304252"
     },
     "user_tz": -420
    },
    "id": "OVJFffh-byNl",
    "outputId": "3f625917-3da8-44ac-f4ad-3602033ae8a0"
   },
   "outputs": [],
   "source": [
    "df_filter = df[df['Rating'] >= 8.6]\n",
    "df_filter = df_filter[['Title', 'Rating']]\n",
    "df_filter.head()"
   ]
  },
  {
   "cell_type": "code",
   "execution_count": null,
   "metadata": {
    "id": "8tl5wDvbb7Jc"
   },
   "outputs": [],
   "source": [
    "movies_df[(movies_df['Director'] == 'Christopher Nolan') | (movies_df['Director'] == 'Ridley Scott')].head()"
   ]
  },
  {
   "cell_type": "code",
   "execution_count": null,
   "metadata": {
    "colab": {
     "base_uri": "https://localhost:8080/",
     "height": 206
    },
    "executionInfo": {
     "elapsed": 971,
     "status": "ok",
     "timestamp": 1658759548934,
     "user": {
      "displayName": "Moch. Ari Nasichuddin",
      "userId": "02079544481646304252"
     },
     "user_tz": -420
    },
    "id": "tTIboYHGcAEE",
    "outputId": "3f9c81c8-7858-403f-b2e5-10a335498209"
   },
   "outputs": [],
   "source": [
    "df_filter = df[df['Director'].isin(['Christopher Nolan', 'Ridley Scott'])]\n",
    "df_filter = df_filter[['Title', 'Director']]\n",
    "df_filter.head()"
   ]
  },
  {
   "cell_type": "code",
   "execution_count": null,
   "metadata": {
    "id": "5FfpcwHvcFnJ"
   },
   "outputs": [],
   "source": [
    "movies_df[\n",
    "    ((movies_df['Year'] >= 2005) & (movies_df['Year'] <= 2010))\n",
    "    & (movies_df['Rating'] > 8.0)]"
   ]
  },
  {
   "cell_type": "markdown",
   "metadata": {
    "id": "MjE4PG6ece-e"
   },
   "source": [
    "# Applying functions"
   ]
  },
  {
   "cell_type": "code",
   "execution_count": null,
   "metadata": {
    "executionInfo": {
     "elapsed": 561,
     "status": "ok",
     "timestamp": 1658770295289,
     "user": {
      "displayName": "Moch. Ari Nasichuddin",
      "userId": "02079544481646304252"
     },
     "user_tz": -420
    },
    "id": "PW21rFHAcV6W"
   },
   "outputs": [],
   "source": [
    "def rating_function(x):\n",
    "    if x >= 8.0:\n",
    "        return \"good\"\n",
    "    else:\n",
    "        return \"bad\""
   ]
  },
  {
   "cell_type": "code",
   "execution_count": null,
   "metadata": {
    "colab": {
     "base_uri": "https://localhost:8080/",
     "height": 206
    },
    "executionInfo": {
     "elapsed": 350,
     "status": "ok",
     "timestamp": 1658770388360,
     "user": {
      "displayName": "Moch. Ari Nasichuddin",
      "userId": "02079544481646304252"
     },
     "user_tz": -420
    },
    "id": "tcPtxJNk_RjU",
    "outputId": "1c33c1a6-3297-4533-be7f-a5a3bc0a4416"
   },
   "outputs": [],
   "source": [
    "df_filter = df[['Title', 'Rating']]\n",
    "df_filter.head()"
   ]
  },
  {
   "cell_type": "code",
   "execution_count": null,
   "metadata": {
    "colab": {
     "base_uri": "https://localhost:8080/"
    },
    "executionInfo": {
     "elapsed": 561,
     "status": "ok",
     "timestamp": 1658770400564,
     "user": {
      "displayName": "Moch. Ari Nasichuddin",
      "userId": "02079544481646304252"
     },
     "user_tz": -420
    },
    "id": "76clkgdmckoC",
    "outputId": "c02ff5aa-3f38-408c-e9d4-57144e867f80"
   },
   "outputs": [],
   "source": [
    "df_filter[\"Rating_category\"] = df_filter[\"Rating\"].apply(rating_function)"
   ]
  },
  {
   "cell_type": "code",
   "execution_count": null,
   "metadata": {
    "colab": {
     "base_uri": "https://localhost:8080/",
     "height": 206
    },
    "executionInfo": {
     "elapsed": 653,
     "status": "ok",
     "timestamp": 1658770407126,
     "user": {
      "displayName": "Moch. Ari Nasichuddin",
      "userId": "02079544481646304252"
     },
     "user_tz": -420
    },
    "id": "_53v7F1Y_nkj",
    "outputId": "6f61009e-455d-43dd-b423-68850558aff7"
   },
   "outputs": [],
   "source": [
    "df_filter.head()"
   ]
  },
  {
   "cell_type": "code",
   "execution_count": null,
   "metadata": {
    "id": "gimKx5X_cn70"
   },
   "outputs": [],
   "source": [
    "movies_df[\"Rating_category\"] = movies_df[\"Rating\"].apply(lambda x: 'good' if x >= 8.0 else 'bad')\n",
    "\n",
    "movies_df.head(2)"
   ]
  },
  {
   "cell_type": "markdown",
   "metadata": {
    "id": "E1RTrAMLvszg"
   },
   "source": [
    "# Cleansing Example"
   ]
  },
  {
   "cell_type": "code",
   "execution_count": null,
   "metadata": {
    "id": "PD1Q5Uujvv3R"
   },
   "outputs": [],
   "source": [
    "# Selanjutnya kita akan memulai cleansing (pembersihan) pada kolom \"text\" dari DataFrame.\n",
    "# Untuk melakukan cleansing, terlebih dahulu kita perlu mendefinisikan sebuah fungsi.\n",
    "# Fungsi ini diberi nama \"cleansing\"\n",
    "\n",
    "# Terlebih dahulu kita import library bernama \"RegEx\".\n",
    "# \"RegEx\" merupakan library yang digunakan untuk memanipulasi data text berdasarkan pola text-nya\n",
    "# Kita panggil library \"RegEx\" sebagai berikut:\n",
    "import re\n",
    "\n",
    "# Selanjutnya berbagai jenis cleansing yang digunakan sebagai berikut\n",
    "def cleansing(sent):\n",
    "    # Mengubah kata menjadi huruf kecil semua dengan menggunakan fungsi lower()\n",
    "    string = str(sent).lower()\n",
    "    # Menghapus emoticon dan tanda baca menggunakan \"RegEx\" dengan script di bawah\n",
    "    string = re.sub(r'[^a-zA-Z0-9]', '', string)\n",
    "    return string"
   ]
  },
  {
   "cell_type": "code",
   "execution_count": null,
   "metadata": {},
   "outputs": [],
   "source": [
    "# Buat DataFrame dengan satu kolom 'text'\n",
    "data = pd.DataFrame({'text': [\"HALO, WORLD! 😊\", \"Ini adalah nomorku.\", \"0812345678\", \"Apa kabar?\"]})\n",
    "data_from_csv = pd.read_csv('Exercise Chapter 3 Topic 2.csv')"
   ]
  },
  {
   "cell_type": "code",
   "execution_count": null,
   "metadata": {},
   "outputs": [],
   "source": [
    "data_from_csv.head(1)"
   ]
  },
  {
   "cell_type": "code",
   "execution_count": null,
   "metadata": {
    "id": "TmwTW_hCv1F0"
   },
   "outputs": [],
   "source": [
    "# Setelah selesai mendefinisikan fungsi \"cleansing\", selanjutnya kita aplikasikan ke dalam kolom text pada DataFrame\n",
    "# Caranya menjalankan script di bawah\n",
    "data['text_clean'] = data.text.apply(cleansing)\n",
    "data"
   ]
  },
  {
   "cell_type": "code",
   "execution_count": null,
   "metadata": {},
   "outputs": [],
   "source": [
    "data_from_csv['text_clean'] = data_from_csv['Text Tweet'].apply(cleansing)\n",
    "data_from_csv.head(1)"
   ]
  },
  {
   "cell_type": "markdown",
   "metadata": {
    "id": "S26h3Ri3c5Wh"
   },
   "source": [
    "# Brief Plotting"
   ]
  },
  {
   "cell_type": "code",
   "execution_count": null,
   "metadata": {
    "executionInfo": {
     "elapsed": 327,
     "status": "ok",
     "timestamp": 1658770867349,
     "user": {
      "displayName": "Moch. Ari Nasichuddin",
      "userId": "02079544481646304252"
     },
     "user_tz": -420
    },
    "id": "HojTkYpCc0IZ"
   },
   "outputs": [],
   "source": [
    "import matplotlib.pyplot as plt\n",
    "plt.rcParams.update({'font.size': 12, 'figure.figsize': (5, 4)}) # set font and plot size to be larger"
   ]
  },
  {
   "cell_type": "code",
   "execution_count": null,
   "metadata": {
    "colab": {
     "base_uri": "https://localhost:8080/",
     "height": 302
    },
    "executionInfo": {
     "elapsed": 648,
     "status": "ok",
     "timestamp": 1658770871579,
     "user": {
      "displayName": "Moch. Ari Nasichuddin",
      "userId": "02079544481646304252"
     },
     "user_tz": -420
    },
    "id": "utrveyWgc243",
    "outputId": "2fbb9ee6-2246-43f3-dfcb-01dc4b28146a"
   },
   "outputs": [],
   "source": [
    "# movies_df.columns\n",
    "\n",
    "df.plot(kind='scatter', x='Rating', y='Revenue_millions', \n",
    "        title='Revenue (millions) vs Rating');"
   ]
  },
  {
   "cell_type": "code",
   "execution_count": null,
   "metadata": {
    "id": "5d3yHyFRc9o9"
   },
   "outputs": [],
   "source": [
    "movies_df['Rating'].plot(kind='hist', title='Rating')"
   ]
  },
  {
   "cell_type": "code",
   "execution_count": null,
   "metadata": {
    "id": "mnWBmnfNdFjz"
   },
   "outputs": [],
   "source": [
    "movies_df['Rating'].describe()"
   ]
  },
  {
   "cell_type": "code",
   "execution_count": null,
   "metadata": {
    "id": "3zHmmOsbdL_k"
   },
   "outputs": [],
   "source": [
    "movies_df['Rating'].plot(kind=\"box\");"
   ]
  },
  {
   "cell_type": "code",
   "execution_count": null,
   "metadata": {
    "id": "JWhuQ0pFdRvf"
   },
   "outputs": [],
   "source": [
    "# movies_df.columns\n",
    "movies_df.boxplot(column='Revenue_millions', by='Rating_category');"
   ]
  },
  {
   "cell_type": "code",
   "execution_count": null,
   "metadata": {},
   "outputs": [],
   "source": []
  }
 ],
 "metadata": {
  "colab": {
   "authorship_tag": "ABX9TyPbzgV1gNhhL/4eS1yzp0Zr",
   "collapsed_sections": [
    "pIJGvaDXX8tc"
   ],
   "mount_file_id": "1suhzdxCR3Fo9ihKk-HSLTJ1GFSOOiVAz",
   "name": "CH3TP2_PANDAS.ipynb",
   "provenance": []
  },
  "kernelspec": {
   "display_name": "Python 3 (ipykernel)",
   "language": "python",
   "name": "python3"
  },
  "language_info": {
   "codemirror_mode": {
    "name": "ipython",
    "version": 3
   },
   "file_extension": ".py",
   "mimetype": "text/x-python",
   "name": "python",
   "nbconvert_exporter": "python",
   "pygments_lexer": "ipython3",
   "version": "3.11.4"
  }
 },
 "nbformat": 4,
 "nbformat_minor": 4
}
